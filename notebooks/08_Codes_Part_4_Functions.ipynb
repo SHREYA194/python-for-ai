{
 "cells": [
  {
   "cell_type": "markdown",
   "metadata": {},
   "source": [
    "# Python Codes - Part 4 [Functions]\n",
    "\n",
    "- Python functions are few lines of variables and codes to perform a specific task.\n",
    "- Inputs to the function are called \"arguments\" and outputs are called \"returns\"\n",
    "\n",
    "<img src=\"images/08/function.png\" />"
   ]
  },
  {
   "cell_type": "markdown",
   "metadata": {},
   "source": [
    "## Built in functions\n",
    "- Python provides many built-in functions. We have been using several throughout this course so far.\n",
    "- Full list of built-in functions: [Python documentation](https://docs.python.org/3.7/library/functions.html)"
   ]
  },
  {
   "cell_type": "code",
   "execution_count": 1,
   "metadata": {},
   "outputs": [
    {
     "name": "stdout",
     "output_type": "stream",
     "text": [
      "hello world!\n"
     ]
    }
   ],
   "source": [
    "# Print is a Python built-in function to print something to the screen\n",
    "print('hello world!')"
   ]
  },
  {
   "cell_type": "code",
   "execution_count": 2,
   "metadata": {},
   "outputs": [
    {
     "name": "stdout",
     "output_type": "stream",
     "text": [
      "10\n"
     ]
    }
   ],
   "source": [
    "# Len is another Python built-in function to find the length of a string, list or dictionary\n",
    "count_to_ten = [1,2,3,4,5,6,7,8,9,10]\n",
    "length = len(count_to_ten)\n",
    "\n",
    "print(length)"
   ]
  },
  {
   "cell_type": "code",
   "execution_count": 3,
   "metadata": {},
   "outputs": [
    {
     "name": "stdout",
     "output_type": "stream",
     "text": [
      "3\n"
     ]
    }
   ],
   "source": [
    "# Int, Float and Str are used to convert any variable to their respective data type\n",
    "pi = 3.14\n",
    "int_pi = int(pi)\n",
    "\n",
    "print(int_pi)"
   ]
  },
  {
   "cell_type": "markdown",
   "metadata": {},
   "source": [
    "## User defined functions\n",
    "- We can define our own functions as well.\n",
    "- The syntax for defining our own function is as follows:\n",
    "\n",
    "```\n",
    "def <function_name> ( <arguments> ) :\n",
    "    <codes of the function>\n",
    "```\n",
    "- We can then use ```function_name()``` similar to how we use an inbuilt function.\n",
    "\n",
    "- The codes within a function definition needs to be indented with 4 spaces. In Jupyter, code is automatically indented when you type a ```def``` statement to define your function. We can also press ```Tab``` instead of manually typing 4 spaces each time we want to indent some code."
   ]
  },
  {
   "cell_type": "markdown",
   "metadata": {},
   "source": [
    "### User defined function without returns"
   ]
  },
  {
   "cell_type": "code",
   "execution_count": 4,
   "metadata": {},
   "outputs": [],
   "source": [
    "# This is an example of a user-defined function\n",
    "def length_of_name(first_name, last_name):\n",
    "    # Your custom code comes here\n",
    "    first_name_length = len(first_name)\n",
    "    last_name_length = len(last_name)\n",
    "    \n",
    "    total_length = first_name_length + last_name_length\n",
    "    print('Length of name =', total_length)"
   ]
  },
  {
   "cell_type": "code",
   "execution_count": 5,
   "metadata": {},
   "outputs": [
    {
     "name": "stdout",
     "output_type": "stream",
     "text": [
      "Length of name = 8\n"
     ]
    }
   ],
   "source": [
    "# We can now call this function by passing in two arguments first_name and last_name\n",
    "length_of_name('Agni', 'Data')"
   ]
  },
  {
   "cell_type": "code",
   "execution_count": 6,
   "metadata": {},
   "outputs": [
    {
     "name": "stdout",
     "output_type": "stream",
     "text": [
      "Length of name = 8\n"
     ]
    }
   ],
   "source": [
    "# We can also call this function by specifying the name of the argument, if the arguments are not passed in order\n",
    "length_of_name(last_name='Data', first_name='Agni')"
   ]
  },
  {
   "cell_type": "code",
   "execution_count": 7,
   "metadata": {},
   "outputs": [
    {
     "name": "stdout",
     "output_type": "stream",
     "text": [
      "Length of name = 8\n",
      "Length of name = 8\n"
     ]
    }
   ],
   "source": [
    "# We can also use variables as arguments\n",
    "first = 'Agni'\n",
    "last = 'Data'\n",
    "\n",
    "length_of_name(first, last)\n",
    "length_of_name(first_name = first, last_name = last)"
   ]
  },
  {
   "cell_type": "markdown",
   "metadata": {},
   "source": [
    "### User defined function with returns\n",
    "\n",
    "- Let us build a user defined function to solve quadratic equations\n",
    "\n",
    "<img src=\"images/08/eqn.png\" />"
   ]
  },
  {
   "cell_type": "code",
   "execution_count": 8,
   "metadata": {},
   "outputs": [],
   "source": [
    "def quadratic_eqn_solver(a, b, c):\n",
    "    # Function to find the solution of a quadratic equation\n",
    "    \n",
    "    numerator_plus = -b + (b**2 - 4*a*c)**0.5\n",
    "    numerator_minus = -b - (b**2 - 4*a*c)**0.5\n",
    "    \n",
    "    denominator = 2*a\n",
    "    \n",
    "    x_plus = numerator_plus/denominator\n",
    "    x_minus = numerator_minus/denominator\n",
    "    \n",
    "    return x_plus, x_minus"
   ]
  },
  {
   "cell_type": "code",
   "execution_count": 9,
   "metadata": {},
   "outputs": [
    {
     "name": "stdout",
     "output_type": "stream",
     "text": [
      "x = (2.0, -5.0)\n",
      "-3.0\n"
     ]
    }
   ],
   "source": [
    "x = quadratic_eqn_solver(1,3,-10)\n",
    "print('x =', x)\n",
    "print(x[0]+x[1])"
   ]
  },
  {
   "cell_type": "code",
   "execution_count": 10,
   "metadata": {},
   "outputs": [
    {
     "name": "stdout",
     "output_type": "stream",
     "text": [
      "x = (-0.2, -1.0)\n"
     ]
    }
   ],
   "source": [
    "x = quadratic_eqn_solver(5,6,1)\n",
    "print('x =', x)"
   ]
  },
  {
   "cell_type": "code",
   "execution_count": 11,
   "metadata": {},
   "outputs": [
    {
     "name": "stdout",
     "output_type": "stream",
     "text": [
      "x = ((-0.19999999999999998+0.4j), (-0.20000000000000004-0.4j))\n"
     ]
    }
   ],
   "source": [
    "x = quadratic_eqn_solver(5,2,1)\n",
    "print('x =', x)"
   ]
  },
  {
   "cell_type": "markdown",
   "metadata": {},
   "source": [
    "## Default Arguments\n",
    "- Some arguments can be made optional by providing them a default value to use if they are not provided a value during a function call"
   ]
  },
  {
   "cell_type": "code",
   "execution_count": 12,
   "metadata": {},
   "outputs": [],
   "source": [
    "# This is an example of a user defined function with default arguments\n",
    "def quadratic_eqn_solver_with_defaults(a=1, b=1, c=0):\n",
    "    # Function to find the solution of a quadratic equation\n",
    "    \n",
    "    numerator_plus = -b + (b**2 - 4*a*c)**0.5\n",
    "    numerator_minus = -b - (b**2 - 4*a*c)**0.5\n",
    "    \n",
    "    denominator = 2*a\n",
    "    \n",
    "    x_plus = numerator_plus/denominator\n",
    "    x_minus = numerator_minus/denominator\n",
    "    \n",
    "    return x_plus, x_minus"
   ]
  },
  {
   "cell_type": "code",
   "execution_count": 13,
   "metadata": {},
   "outputs": [
    {
     "name": "stdout",
     "output_type": "stream",
     "text": [
      "x = (2.0, -5.0)\n"
     ]
    }
   ],
   "source": [
    "x = quadratic_eqn_solver_with_defaults(1,3,-10)\n",
    "print('x =', x)"
   ]
  },
  {
   "cell_type": "code",
   "execution_count": 14,
   "metadata": {},
   "outputs": [
    {
     "name": "stdout",
     "output_type": "stream",
     "text": [
      "x = (0.0, -3.0)\n"
     ]
    }
   ],
   "source": [
    "x = quadratic_eqn_solver_with_defaults(1,3)\n",
    "print('x =', x)"
   ]
  },
  {
   "cell_type": "code",
   "execution_count": 15,
   "metadata": {},
   "outputs": [
    {
     "name": "stdout",
     "output_type": "stream",
     "text": [
      "x = (0.0, -1.0)\n"
     ]
    }
   ],
   "source": [
    "x = quadratic_eqn_solver_with_defaults()\n",
    "print('x =', x)"
   ]
  },
  {
   "cell_type": "markdown",
   "metadata": {},
   "source": [
    "## Variable Scope\n",
    "- The variables created within a function are only \"alive\" for the duration of the function. This is known as \"Local Scope\".\n",
    "- If you want to use the variables created within a function, you can persist it by using ```returns``` to return it outside the function."
   ]
  },
  {
   "cell_type": "code",
   "execution_count": 16,
   "metadata": {},
   "outputs": [],
   "source": [
    "# This is an example of a user defined function with default arguments\n",
    "def quadratic_eqn_solver_with_defaults(a=1, b=1, c=0):\n",
    "    # Function to find the solution of a quadratic equation\n",
    "    \n",
    "    numerator_plus = -b + (b**2 - 4*a*c)**0.5\n",
    "    numerator_minus = -b - (b**2 - 4*a*c)**0.5\n",
    "    \n",
    "    denominator = 2*a\n",
    "    \n",
    "    x_plus = numerator_plus/denominator\n",
    "    x_minus = numerator_minus/denominator\n",
    "    \n",
    "    return x_plus, x_minus"
   ]
  },
  {
   "cell_type": "code",
   "execution_count": 17,
   "metadata": {},
   "outputs": [
    {
     "name": "stdout",
     "output_type": "stream",
     "text": [
      "(2.0, -5.0)\n"
     ]
    }
   ],
   "source": [
    "x = quadratic_eqn_solver_with_defaults(1,3,-10)\n",
    "print(x)"
   ]
  },
  {
   "cell_type": "code",
   "execution_count": 18,
   "metadata": {},
   "outputs": [],
   "source": [
    "# The below code will result in an error since x_plus was created within quadratic_eqn_solver_with_defaults() function \n",
    "# Hence x_plus only lives for the duration of the function due to its Local Scope\n",
    "\n",
    "# print(x_plus)"
   ]
  },
  {
   "cell_type": "markdown",
   "metadata": {},
   "source": [
    "## Summary of Python functions\n",
    "- Functions are few lines of variables and codes to perform a specific task.\n",
    "- Python provides many built in functions, you can define your own functions as well.\n",
    "- Inputs to the function are called \"arguments\" and outputs are called \"returns\".\n",
    "- Function arguments can be given a default value.\n",
    "- Variables created within a function cannot be accessed outside of it without returning them."
   ]
  },
  {
   "cell_type": "code",
   "execution_count": null,
   "metadata": {},
   "outputs": [],
   "source": []
  }
 ],
 "metadata": {
  "kernelspec": {
   "display_name": "Python 3",
   "language": "python",
   "name": "python3"
  },
  "language_info": {
   "codemirror_mode": {
    "name": "ipython",
    "version": 3
   },
   "file_extension": ".py",
   "mimetype": "text/x-python",
   "name": "python",
   "nbconvert_exporter": "python",
   "pygments_lexer": "ipython3",
   "version": "3.8.5"
  },
  "widgets": {
   "application/vnd.jupyter.widget-state+json": {
    "state": {},
    "version_major": 2,
    "version_minor": 0
   }
  }
 },
 "nbformat": 4,
 "nbformat_minor": 4
}
