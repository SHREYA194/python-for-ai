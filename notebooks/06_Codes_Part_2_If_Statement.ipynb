{
 "cells": [
  {
   "cell_type": "markdown",
   "metadata": {},
   "source": [
    "# Python Codes - Part 2 [If Statement]\n",
    "- Python ```if``` statement is used to execute a block of code only when a certain condition is ```True```.\n",
    "- The syntax of ```if``` statement is\n",
    "\n",
    "```\n",
    "if <condition-1> :\n",
    "    <codes if condition-1 is True>\n",
    "elif <condition-2> :\n",
    "    <codes if condition-2 is True>\n",
    "elif <condition-3> :\n",
    "    <codes if condition-3 is True>\n",
    "...\n",
    "else:\n",
    "    <codes if none of the above conditions are True>\n",
    "````\n",
    "\n",
    "- ```elif``` is short for ```else if``` and is optional.\n",
    "- ```else``` is also optional.\n",
    "- The codes within an ```if```, ```elif``` or ```else``` block needs to be indented with 4 spaces. In Jupyter, code is automatically indented when you type an ```if``` statement. We can also press ```Tab``` instead of manually typing 4 spaces each time we want to indent some code."
   ]
  },
  {
   "cell_type": "code",
   "execution_count": 1,
   "metadata": {},
   "outputs": [],
   "source": [
    "# This is an example variable to use in If Statement examples\n",
    "height = 180"
   ]
  },
  {
   "cell_type": "markdown",
   "metadata": {},
   "source": [
    "## Single conditions"
   ]
  },
  {
   "cell_type": "code",
   "execution_count": 2,
   "metadata": {},
   "outputs": [
    {
     "name": "stdout",
     "output_type": "stream",
     "text": [
      "height is above average\n"
     ]
    }
   ],
   "source": [
    "# This is an example of a Python If Statement\n",
    "\n",
    "if height > 160:\n",
    "    print('height is above average')"
   ]
  },
  {
   "cell_type": "code",
   "execution_count": 3,
   "metadata": {},
   "outputs": [
    {
     "name": "stdout",
     "output_type": "stream",
     "text": [
      "height is above average\n"
     ]
    }
   ],
   "source": [
    "# This is an example of Python If-Else Statement\n",
    "\n",
    "if height > 160:\n",
    "    above_average = True\n",
    "    print('height is above average')\n",
    "else:\n",
    "    above_average = False\n",
    "    print('height is below average')"
   ]
  },
  {
   "cell_type": "code",
   "execution_count": 4,
   "metadata": {},
   "outputs": [
    {
     "name": "stdout",
     "output_type": "stream",
     "text": [
      "height is above average\n"
     ]
    }
   ],
   "source": [
    "# This is an example of Python If-Elif-Else Statement\n",
    "\n",
    "if height > 160:\n",
    "    above_average = True\n",
    "    print('height is above average')\n",
    "elif height < 0:\n",
    "    print('data issue!')\n",
    "else:\n",
    "    above_average = False\n",
    "    print('height is below average')"
   ]
  },
  {
   "cell_type": "markdown",
   "metadata": {},
   "source": [
    "## Multiple Conditions\n",
    "\n",
    "- Multiple conditions can be checked in the same ```if``` statement using the ```and```, ```or``` operators.\n",
    "- ```and``` operator executes the code within the ```if``` statement only if <b>both</b> the conditions are ```True```.\n",
    "- ```or``` operator executes the code within the ```if``` statement if <b>either</b> of the conditions are ```True```.\n",
    "- I recommend to enclose each condition within brackets ```()```."
   ]
  },
  {
   "cell_type": "code",
   "execution_count": 5,
   "metadata": {},
   "outputs": [
    {
     "name": "stdout",
     "output_type": "stream",
     "text": [
      "height is above average\n"
     ]
    }
   ],
   "source": [
    "# This is an example of an if statement using \"and\" operator\n",
    "\n",
    "if (height > 160) and (height < 300):\n",
    "    print('height is above average')\n",
    "elif height < 0:\n",
    "    print('data issue!')\n",
    "else:\n",
    "    print('height is below average')"
   ]
  },
  {
   "cell_type": "code",
   "execution_count": 6,
   "metadata": {},
   "outputs": [
    {
     "name": "stdout",
     "output_type": "stream",
     "text": [
      "height is above average\n"
     ]
    }
   ],
   "source": [
    "# This is an example of an if statement using \"or\" operators\n",
    "\n",
    "if (height > 160) and (height < 300):\n",
    "    print('height is above average')\n",
    "elif (height < 0) or (height > 300):\n",
    "    print('data issue!')\n",
    "else:\n",
    "    print('height is below average')"
   ]
  },
  {
   "cell_type": "markdown",
   "metadata": {},
   "source": [
    "## Comparison operators\n",
    "- So far we have only been using the ```>``` and ```<``` operators in the ```if``` statement's condition.\n",
    "- Python provides other comparison operators as shown below\n",
    "\n",
    "| Name                     | Symbol |\n",
    "|--------------------------|:------:|\n",
    "| Greater Than             |    >   |\n",
    "| Less Than                |    <   |\n",
    "| Greater Than or Equal To |   >=   |\n",
    "| Less Than or Equal To    |   <=   |\n",
    "| Equal To                 |   ==   |\n",
    "| Not Equal To             |   !=   |"
   ]
  },
  {
   "cell_type": "code",
   "execution_count": 7,
   "metadata": {},
   "outputs": [
    {
     "name": "stdout",
     "output_type": "stream",
     "text": [
      "height is above average\n"
     ]
    }
   ],
   "source": [
    "# This is an example of using other comparison operators in Python\n",
    "height = 180\n",
    "\n",
    "if (height == 'NA'):\n",
    "    print('data missing!')\n",
    "elif (height >= 160) and (height <= 300):\n",
    "    print('height is above average')\n",
    "elif (height <= 0) or (height >= 300):\n",
    "    print('data issue!')\n",
    "else:\n",
    "    print('height is below average')"
   ]
  },
  {
   "cell_type": "markdown",
   "metadata": {},
   "source": [
    "## Summary of ```if``` Statement\n",
    "- ```if``` statement is used to execute a block of code only when certain condition is ```True```.\n",
    "- ```if``` statement can be optionally be followed by else-ifs ```elif``` and ```else``` statements to develop complex rules.\n",
    "- Multiple conditions can be chained together in a single ```if``` statement using ```and```, ```or``` operators.\n",
    "- Python provides various comparison operators.\n",
    "- Good Old Fashioned AI systems heavily use ```if-elif-else``` statements to code up all the rules of the AI system."
   ]
  },
  {
   "cell_type": "code",
   "execution_count": null,
   "metadata": {},
   "outputs": [],
   "source": []
  }
 ],
 "metadata": {
  "kernelspec": {
   "display_name": "Python 3",
   "language": "python",
   "name": "python3"
  },
  "language_info": {
   "codemirror_mode": {
    "name": "ipython",
    "version": 3
   },
   "file_extension": ".py",
   "mimetype": "text/x-python",
   "name": "python",
   "nbconvert_exporter": "python",
   "pygments_lexer": "ipython3",
   "version": "3.8.5"
  },
  "toc-autonumbering": true,
  "widgets": {
   "application/vnd.jupyter.widget-state+json": {
    "state": {},
    "version_major": 2,
    "version_minor": 0
   }
  }
 },
 "nbformat": 4,
 "nbformat_minor": 4
}
