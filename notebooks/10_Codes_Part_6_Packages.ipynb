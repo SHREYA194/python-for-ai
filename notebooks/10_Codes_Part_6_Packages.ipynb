{
 "cells": [
  {
   "cell_type": "markdown",
   "metadata": {},
   "source": [
    "# Python Codes - Part 6 [Packages]\n",
    "- The highest hierarchy in Python is a Package or Library that is a group of related classes, functions, variables, and even sub-packages.\n",
    "- Many companies and universities like Google, Facebook, Stanford, etc, develop and release Python packages on the internet.\n",
    "- Individuals can also release packages on the internet.\n",
    "- Using the packages developed by others, speeds up and makes it much more easier to build our own AI systems. We are truly standing on the shoulders of giants!\n",
    "\n",
    "<img src=\"images/10/package.png\" />"
   ]
  },
  {
   "cell_type": "markdown",
   "metadata": {},
   "source": [
    "## Working with packages\n",
    "- The numpy package provides many useful functions to work with lists.\n",
    "- The numpy equivalent of a list is called an array.\n",
    "- NumPy arrays are faster and more compact than Python lists. An array consumes less memory and is convenient to use: [Source](https://numpy.org/doc/stable/user/absolute_beginners.html)"
   ]
  },
  {
   "cell_type": "code",
   "execution_count": null,
   "metadata": {},
   "outputs": [],
   "source": [
    "# Install numpy package if not already installed\n",
    "# ! pip install numpy"
   ]
  },
  {
   "cell_type": "markdown",
   "metadata": {},
   "source": [
    "### Import numpy"
   ]
  },
  {
   "cell_type": "code",
   "execution_count": 2,
   "metadata": {},
   "outputs": [],
   "source": [
    "# This is an example of importing a package and assigning an alias name\n",
    "import numpy as np"
   ]
  },
  {
   "cell_type": "code",
   "execution_count": 3,
   "metadata": {},
   "outputs": [
    {
     "name": "stdout",
     "output_type": "stream",
     "text": [
      "[0. 0. 0. 0. 0.]\n"
     ]
    }
   ],
   "source": [
    "# In subsequent lines of code, we can use the alias name to access classes, functions and attributes (variables) from this package\n",
    "zero_array = np.zeros(5)\n",
    "print(zero_array)"
   ]
  },
  {
   "cell_type": "code",
   "execution_count": 4,
   "metadata": {},
   "outputs": [],
   "source": [
    "# This is an example of importing a single class from a package\n",
    "from numpy import random"
   ]
  },
  {
   "cell_type": "code",
   "execution_count": 5,
   "metadata": {},
   "outputs": [
    {
     "name": "stdout",
     "output_type": "stream",
     "text": [
      "[3 7 9 5 4]\n"
     ]
    }
   ],
   "source": [
    "random_array = random.randint(0, 10, 5)\n",
    "print(random_array)"
   ]
  },
  {
   "cell_type": "markdown",
   "metadata": {},
   "source": [
    "### List to Array\n",
    "<img src=\"images/03/ndlist.png\" />"
   ]
  },
  {
   "cell_type": "code",
   "execution_count": 6,
   "metadata": {},
   "outputs": [
    {
     "name": "stdout",
     "output_type": "stream",
     "text": [
      "[1, 2, 3, 4, 5, 6, 7, 8, 9, 10]\n",
      "[ 1  2  3  4  5  6  7  8  9 10]\n"
     ]
    }
   ],
   "source": [
    "# Create a numpy array from a list\n",
    "count_to_ten = [1, 2, 3, 4, 5, 6, 7, 8, 9, 10]\n",
    "print(count_to_ten)\n",
    "\n",
    "count_to_ten_array = np.array(count_to_ten)\n",
    "print(count_to_ten_array)"
   ]
  },
  {
   "cell_type": "code",
   "execution_count": 7,
   "metadata": {},
   "outputs": [
    {
     "name": "stdout",
     "output_type": "stream",
     "text": [
      "[[ 1  2]\n",
      " [ 3  4]\n",
      " [ 5  6]\n",
      " [ 7  8]\n",
      " [ 9 10]]\n"
     ]
    }
   ],
   "source": [
    "# Numpy can change a 1D to a 2D array easily by using .reshape(n_rows, n_cols). Each is called one axis\n",
    "count_to_ten_2d = count_to_ten_array.reshape(5, 2)\n",
    "print(count_to_ten_2d)"
   ]
  },
  {
   "cell_type": "code",
   "execution_count": 8,
   "metadata": {},
   "outputs": [
    {
     "name": "stdout",
     "output_type": "stream",
     "text": [
      "[[ 1  2]\n",
      " [ 3  4]\n",
      " [ 5  6]\n",
      " [ 7  8]\n",
      " [ 9 10]]\n"
     ]
    }
   ],
   "source": [
    "# -1 can be used for any axis that we are not sure of\n",
    "count_to_ten_2d = count_to_ten_array.reshape(5, -1)\n",
    "print(count_to_ten_2d)"
   ]
  },
  {
   "cell_type": "markdown",
   "metadata": {},
   "source": [
    "### + operator"
   ]
  },
  {
   "cell_type": "code",
   "execution_count": 9,
   "metadata": {},
   "outputs": [
    {
     "name": "stdout",
     "output_type": "stream",
     "text": [
      "List addition is concatenation:  [1, 2, 3, 4, 5, 6, 7, 8, 9, 10]\n",
      "Numpy addition is item wise addition:  [ 7  9 11 13 15]\n"
     ]
    }
   ],
   "source": [
    "# + operation achieves itemwise addition on two numpy arrays (instead of concatenate as in lists)\n",
    "list_1 = [1, 2, 3, 4, 5]\n",
    "list_2 = [6, 7, 8, 9, 10]\n",
    "print('List addition is concatenation: ', list_1 + list_2)\n",
    "\n",
    "array_1 = np.array(list_1)\n",
    "array_2 = np.array(list_2)\n",
    "print('Numpy addition is item wise addition: ', array_1 + array_2)"
   ]
  },
  {
   "cell_type": "code",
   "execution_count": 10,
   "metadata": {},
   "outputs": [
    {
     "name": "stdout",
     "output_type": "stream",
     "text": [
      "List addition is concatenation:  [[1, 2, 3, 4, 5], [1, 2, 3, 4, 5], [6, 7, 8, 9, 10], [6, 7, 8, 9, 10]]\n",
      "Numpy addition is item wise addition: \n",
      " [[ 7  9 11 13 15]\n",
      " [ 7  9 11 13 15]]\n"
     ]
    }
   ],
   "source": [
    "list_1 = [[1, 2, 3, 4, 5], [1, 2, 3, 4, 5]]\n",
    "list_2 = [[6, 7, 8, 9, 10], [6, 7, 8, 9, 10]]\n",
    "print('List addition is concatenation: ', list_1 + list_2)\n",
    "\n",
    "array_1 = np.array(list_1)\n",
    "array_2 = np.array(list_2)\n",
    "print('Numpy addition is item wise addition: \\n', array_1 + array_2)"
   ]
  },
  {
   "cell_type": "markdown",
   "metadata": {},
   "source": [
    "### Accessing individual items and slicing"
   ]
  },
  {
   "cell_type": "code",
   "execution_count": 11,
   "metadata": {},
   "outputs": [
    {
     "name": "stdout",
     "output_type": "stream",
     "text": [
      "3\n",
      "[1 2]\n"
     ]
    }
   ],
   "source": [
    "# Individual items in a numpy array can be accessed similar to lists by using the index or by slicing\n",
    "print(array_1[0][2])\n",
    "print(array_1[0][:2])"
   ]
  },
  {
   "cell_type": "markdown",
   "metadata": {},
   "source": [
    "### Matrix multiplication\n",
    "- Numpy can do very fast matrix multiplication\n",
    "\n",
    "<img src=\"images/10/matrix_mul.png\" width=\"500\"/>"
   ]
  },
  {
   "cell_type": "code",
   "execution_count": 12,
   "metadata": {},
   "outputs": [
    {
     "data": {
      "text/plain": [
       "array([[140, 146],\n",
       "       [320, 335]])"
      ]
     },
     "execution_count": 12,
     "metadata": {},
     "output_type": "execute_result"
    }
   ],
   "source": [
    "list_1 = [[1, 2, 3], [4, 5, 6]]\n",
    "list_2 = [[10, 11], [20, 21], [30, 31]]\n",
    "\n",
    "np.matmul(list_1, list_2)"
   ]
  },
  {
   "cell_type": "markdown",
   "metadata": {},
   "source": [
    "## Summary\n",
    "- Python packages are groups of related classes, functions, variables, and even sub-packages written by other Python programmers.\n",
    "- Install a Python package from the internet using ```! pip install <package_name>```.\n",
    "- Import a package by using ```import``` statement.\n",
    "- Numpy is a versatile Python package that adds much more functionality to list like variables."
   ]
  },
  {
   "cell_type": "code",
   "execution_count": null,
   "metadata": {},
   "outputs": [],
   "source": []
  }
 ],
 "metadata": {
  "kernelspec": {
   "display_name": "Python 3.7 (XPython)",
   "language": "python",
   "name": "xpython"
  },
  "language_info": {
   "file_extension": ".py",
   "mimetype": "text/x-python",
   "name": "python",
   "version": "3.7.6"
  },
  "toc-autonumbering": true,
  "widgets": {
   "application/vnd.jupyter.widget-state+json": {
    "state": {},
    "version_major": 2,
    "version_minor": 0
   }
  }
 },
 "nbformat": 4,
 "nbformat_minor": 4
}
