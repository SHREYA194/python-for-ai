{
 "cells": [
  {
   "cell_type": "markdown",
   "metadata": {},
   "source": [
    "# Python Variables - Part 2 [Lists]"
   ]
  },
  {
   "cell_type": "markdown",
   "metadata": {},
   "source": [
    "## What is a Python List?\n",
    "- A Python List is a collection or chain of related items stored in a single variable.\n",
    "- Individual items in a list are separated by comma and all the items are enclosed within square brackets ```[]```."
   ]
  },
  {
   "cell_type": "markdown",
   "metadata": {},
   "source": [
    "### Creating lists with unique values in each item\n",
    "- Creating a list is the same as creating any other variable. We can assign a list of values to a variable using the ```=``` symbol"
   ]
  },
  {
   "cell_type": "code",
   "execution_count": 1,
   "metadata": {},
   "outputs": [
    {
     "name": "stdout",
     "output_type": "stream",
     "text": [
      "['Sunday', 'Monday', 'Tuesday', 'Wednesday', 'Thursday', 'Friday', 'Saturday']\n"
     ]
    }
   ],
   "source": [
    "# This is an example of a Python list containing string variables\n",
    "days_of_the_week = ['Sunday', 'Monday', 'Tuesday', 'Wednesday', 'Thursday', 'Friday', 'Saturday']\n",
    "print(days_of_the_week)"
   ]
  },
  {
   "cell_type": "code",
   "execution_count": 2,
   "metadata": {},
   "outputs": [
    {
     "name": "stdout",
     "output_type": "stream",
     "text": [
      "['Captain Marvel', 'Avengers: Endgame', 'Spider-Man: Far From Home']\n"
     ]
    }
   ],
   "source": [
    "# This is another example of a Python list containing string variables\n",
    "marvel_movies_2019 = ['Captain Marvel', 'Avengers: Endgame', 'Spider-Man: Far From Home']\n",
    "print(marvel_movies_2019)"
   ]
  },
  {
   "cell_type": "code",
   "execution_count": 3,
   "metadata": {},
   "outputs": [
    {
     "name": "stdout",
     "output_type": "stream",
     "text": [
      "[1, 2, 3, 4, 5, 6, 7, 8, 9, 10]\n"
     ]
    }
   ],
   "source": [
    "# This is an example of a Python list containing numbers\n",
    "count_to_ten = [1, 2, 3, 4, 5, 6, 7, 8, 9, 10]\n",
    "print(count_to_ten)"
   ]
  },
  {
   "cell_type": "markdown",
   "metadata": {},
   "source": [
    "### Creating lists with fixed values in each item\n",
    "- Sometimes we might want to create a list of certain length with each item containing the same value. \n",
    "- We can use the ```*``` symbol shortcut to achieve this"
   ]
  },
  {
   "cell_type": "code",
   "execution_count": 4,
   "metadata": {},
   "outputs": [
    {
     "name": "stdout",
     "output_type": "stream",
     "text": [
      "[0, 0, 0, 0, 0]\n"
     ]
    }
   ],
   "source": [
    "# This is an example of creating a list with 5 zeros\n",
    "five_zero_list = [0]*5\n",
    "print(five_zero_list)"
   ]
  },
  {
   "cell_type": "markdown",
   "metadata": {},
   "source": [
    "## Accessing Items in a Python List"
   ]
  },
  {
   "cell_type": "markdown",
   "metadata": {},
   "source": [
    "### Accessing single items\n",
    "- To access items in a list, we just need to type the list's name followed by the index of the position we want to access within square brackets.\n",
    "- Python's index starts from $0$. Thus to access the first item in a list, it's index is actually $0$ as shown below.\n",
    "- To access the last item in a list, we can still use the index of the last position in the list. Or we can use a shortcut, by using the index $-1$ to refer to the last item. $-2$ refers to the item immediately prior to the last item and so on.\n",
    "\n",
    "<img src=\"images/03/list_indexing.png\" />"
   ]
  },
  {
   "cell_type": "code",
   "execution_count": 5,
   "metadata": {},
   "outputs": [
    {
     "name": "stdout",
     "output_type": "stream",
     "text": [
      "Sunday\n"
     ]
    }
   ],
   "source": [
    "# This is an example to access the first item (index = 0) of a list\n",
    "print(days_of_the_week[0])"
   ]
  },
  {
   "cell_type": "code",
   "execution_count": 6,
   "metadata": {},
   "outputs": [
    {
     "name": "stdout",
     "output_type": "stream",
     "text": [
      "Monday\n"
     ]
    }
   ],
   "source": [
    "# This is an example to access the second item (index = 1) of a list\n",
    "print(days_of_the_week[1])"
   ]
  },
  {
   "cell_type": "code",
   "execution_count": 7,
   "metadata": {},
   "outputs": [
    {
     "name": "stdout",
     "output_type": "stream",
     "text": [
      "Saturday\n"
     ]
    }
   ],
   "source": [
    "# This is an example to access the last item (index = -1) of a list\n",
    "print(days_of_the_week[-1])"
   ]
  },
  {
   "cell_type": "markdown",
   "metadata": {},
   "source": [
    "### Accessing a range of items\n",
    "- To access a range of items, for example, the $2$nd to $5$th item, we use the slicing operation using the ```:``` symbol\n",
    "- Slicing operation is inclusive of the index before the : but exclusive of the index after the ```:```"
   ]
  },
  {
   "cell_type": "code",
   "execution_count": 8,
   "metadata": {},
   "outputs": [
    {
     "name": "stdout",
     "output_type": "stream",
     "text": [
      "['Tuesday', 'Wednesday', 'Thursday', 'Friday']\n"
     ]
    }
   ],
   "source": [
    "# This is an example to access the 2nd to 5th item in a list. \n",
    "# Python slicing is inclusive of the index before : but exclusive of index after :\n",
    "print(days_of_the_week[2:6])"
   ]
  },
  {
   "cell_type": "code",
   "execution_count": 9,
   "metadata": {},
   "outputs": [
    {
     "name": "stdout",
     "output_type": "stream",
     "text": [
      "['Sunday', 'Monday', 'Tuesday', 'Wednesday', 'Thursday', 'Friday']\n",
      "['Sunday', 'Monday', 'Tuesday', 'Wednesday', 'Thursday', 'Friday']\n"
     ]
    }
   ],
   "source": [
    "# These are examples to access all items from the beginning till the 5th item\n",
    "print(days_of_the_week[0:6])\n",
    "print(days_of_the_week[:6])"
   ]
  },
  {
   "cell_type": "code",
   "execution_count": 10,
   "metadata": {},
   "outputs": [
    {
     "name": "stdout",
     "output_type": "stream",
     "text": [
      "['Friday', 'Saturday']\n"
     ]
    }
   ],
   "source": [
    "# This is and example to access all items from the 5th item till the last item\n",
    "print(days_of_the_week[5:])"
   ]
  },
  {
   "cell_type": "markdown",
   "metadata": {},
   "source": [
    "## Adding items to a Python List"
   ]
  },
  {
   "cell_type": "markdown",
   "metadata": {},
   "source": [
    "### Adding single items\n",
    "- We can add new items to an existing list by using the ```.append()``` function.\n",
    "- Notice how we call the function after the name of the list using a ```.``` dot."
   ]
  },
  {
   "cell_type": "code",
   "execution_count": 11,
   "metadata": {},
   "outputs": [
    {
     "name": "stdout",
     "output_type": "stream",
     "text": [
      "[0, 1, 2, 3, 4, 5]\n"
     ]
    }
   ],
   "source": [
    "# This is an example of adding a new item to an existing list\n",
    "num_list = [0, 1, 2, 3, 4]\n",
    "num_list.append(5)\n",
    "print(num_list)"
   ]
  },
  {
   "cell_type": "code",
   "execution_count": 12,
   "metadata": {},
   "outputs": [
    {
     "name": "stdout",
     "output_type": "stream",
     "text": [
      "[0, 1, 2, 3, 4, 5, 6]\n"
     ]
    }
   ],
   "source": [
    "# This is another example of adding a new item to an existing list\n",
    "num_list.append(6)\n",
    "print(num_list)"
   ]
  },
  {
   "cell_type": "code",
   "execution_count": 13,
   "metadata": {},
   "outputs": [
    {
     "name": "stdout",
     "output_type": "stream",
     "text": [
      "[0, 1, 2, 3, 4, 5, 6]\n"
     ]
    }
   ],
   "source": [
    "# Printing num_list once more to check that two items were indeed appended\n",
    "print(num_list)"
   ]
  },
  {
   "cell_type": "markdown",
   "metadata": {},
   "source": [
    "### Adding multiple items by concatenation\n",
    "- Similar to strings, we can concatenate one list to another by using the shortcut symbol ```+``` or using the function ```.extend()```.\n",
    "- The result is similar to adding multiple items to a list"
   ]
  },
  {
   "cell_type": "code",
   "execution_count": 14,
   "metadata": {},
   "outputs": [
    {
     "name": "stdout",
     "output_type": "stream",
     "text": [
      "[0, 1, 2, 3, 4, 5, 6]\n"
     ]
    }
   ],
   "source": [
    "# This is an example of list concatenation to add multiple items to a list using + symbol\n",
    "num_list = [0, 1, 2, 3, 4]\n",
    "add_to_num_list = [5, 6]\n",
    "\n",
    "num_list = num_list + add_to_num_list\n",
    "print(num_list)"
   ]
  },
  {
   "cell_type": "code",
   "execution_count": 15,
   "metadata": {},
   "outputs": [
    {
     "name": "stdout",
     "output_type": "stream",
     "text": [
      "[0, 1, 2, 3, 4, 5, 6]\n"
     ]
    }
   ],
   "source": [
    "# This is another example of list concatenation to add multiple items to a list using extend() function\n",
    "num_list = [0, 1, 2, 3, 4]\n",
    "add_to_num_list = [5, 6]\n",
    "\n",
    "num_list.extend(add_to_num_list)\n",
    "print(num_list)"
   ]
  },
  {
   "cell_type": "code",
   "execution_count": 16,
   "metadata": {},
   "outputs": [
    {
     "name": "stdout",
     "output_type": "stream",
     "text": [
      "[0, 1, 2, 3, 4, [5, 6]]\n"
     ]
    }
   ],
   "source": [
    "# This is what happens if you use append() function\n",
    "# The entire second list gets added as a list within a list\n",
    "num_list = [0, 1, 2, 3, 4]\n",
    "add_to_num_list = [5, 6]\n",
    "\n",
    "num_list.append(add_to_num_list)\n",
    "print(num_list)"
   ]
  },
  {
   "cell_type": "markdown",
   "metadata": {},
   "source": [
    "## Finding if a specific item exists in a list\n",
    "- Sometimes, we might want to find if a specific item exists in a list. We can achieve this by using the ```in``` keyword.\n",
    "- This operation is mainly used together with Python conditions that we will cover later."
   ]
  },
  {
   "cell_type": "code",
   "execution_count": 17,
   "metadata": {},
   "outputs": [
    {
     "data": {
      "text/plain": [
       "True"
      ]
     },
     "execution_count": 17,
     "metadata": {},
     "output_type": "execute_result"
    }
   ],
   "source": [
    "# This is an example of finding if a specific item exists in a list\n",
    "days_of_the_week = ['Sunday', 'Monday', 'Tuesday', 'Wednesday', 'Thursday', 'Friday', 'Saturday']\n",
    "\n",
    "'Thursday' in days_of_the_week"
   ]
  },
  {
   "cell_type": "code",
   "execution_count": 18,
   "metadata": {},
   "outputs": [
    {
     "data": {
      "text/plain": [
       "False"
      ]
     },
     "execution_count": 18,
     "metadata": {},
     "output_type": "execute_result"
    }
   ],
   "source": [
    "# This is another example of finding if a specific item exists in a list\n",
    "'Someday' in days_of_the_week"
   ]
  },
  {
   "cell_type": "code",
   "execution_count": 19,
   "metadata": {},
   "outputs": [
    {
     "data": {
      "text/plain": [
       "True"
      ]
     },
     "execution_count": 19,
     "metadata": {},
     "output_type": "execute_result"
    }
   ],
   "source": [
    "# This is another example of finding if a specific item exists in a list\n",
    "num_list = [0, 1, 2, 3, 4, 5, 6]\n",
    "\n",
    "3 in num_list"
   ]
  },
  {
   "cell_type": "code",
   "execution_count": 20,
   "metadata": {},
   "outputs": [
    {
     "data": {
      "text/plain": [
       "False"
      ]
     },
     "execution_count": 20,
     "metadata": {},
     "output_type": "execute_result"
    }
   ],
   "source": [
    "# This is another example of finding if a specific item exists in a list\n",
    "num_list = [0, 1, 2, 3, 4, 5, 6]\n",
    "\n",
    "10 in num_list"
   ]
  },
  {
   "cell_type": "markdown",
   "metadata": {},
   "source": [
    "## Finding the number of items in a list\n",
    "- To find the number of items in the list, or in other words to find the length of a list we use the ```len()``` function"
   ]
  },
  {
   "cell_type": "code",
   "execution_count": 21,
   "metadata": {},
   "outputs": [
    {
     "name": "stdout",
     "output_type": "stream",
     "text": [
      "Lenght of days_of_the_week list = 7\n"
     ]
    }
   ],
   "source": [
    "# This is an example of finding the length of a list\n",
    "days_of_the_week = ['Sunday', 'Monday', 'Tuesday', 'Wednesday', 'Thursday', 'Friday', 'Saturday']\n",
    "\n",
    "print('Lenght of days_of_the_week list =', len(days_of_the_week))"
   ]
  },
  {
   "cell_type": "markdown",
   "metadata": {},
   "source": [
    "## Multi-Dimensional Lists\n",
    "\n",
    "<img src=\"images/03/ndlist.png\" />"
   ]
  },
  {
   "cell_type": "code",
   "execution_count": 22,
   "metadata": {},
   "outputs": [
    {
     "name": "stdout",
     "output_type": "stream",
     "text": [
      "[0, 1, 2, 3, 4, 5, 6]\n"
     ]
    }
   ],
   "source": [
    "# This is an example of a 1-Dimensional List\n",
    "num_list = [0, 1, 2, 3, 4, 5, 6]\n",
    "print(num_list)"
   ]
  },
  {
   "cell_type": "code",
   "execution_count": 23,
   "metadata": {},
   "outputs": [
    {
     "name": "stdout",
     "output_type": "stream",
     "text": [
      "[[1, 2, 3, 4, 5], [6, 7, 8, 9, 10], [11, 12, 13, 14, 15]]\n"
     ]
    }
   ],
   "source": [
    "# This is an example of a 2-Dimensional List\n",
    "num_list_2d = [[1, 2, 3, 4, 5], [6, 7, 8, 9, 10], [11, 12, 13, 14, 15]]\n",
    "print(num_list_2d)"
   ]
  },
  {
   "cell_type": "code",
   "execution_count": 24,
   "metadata": {},
   "outputs": [
    {
     "name": "stdout",
     "output_type": "stream",
     "text": [
      "6\n"
     ]
    }
   ],
   "source": [
    "# This is an example of accessing a single item from a 2D list\n",
    "print(num_list_2d[1][0])"
   ]
  },
  {
   "cell_type": "code",
   "execution_count": 25,
   "metadata": {},
   "outputs": [
    {
     "name": "stdout",
     "output_type": "stream",
     "text": [
      "[[[1, 2, 3, 4, 5], [6, 7, 8, 9, 10], [11, 12, 13, 14, 15]], [[16, 17, 18, 19, 20], [21, 22, 23, 24, 25], [26, 27, 28, 29, 30]]]\n"
     ]
    }
   ],
   "source": [
    "# This is an example of a 3-Dimensional List\n",
    "num_list_3d = [\n",
    "    [[1, 2, 3, 4, 5], \n",
    "     [6, 7, 8, 9, 10], \n",
    "     [11, 12, 13, 14, 15]],\n",
    "    \n",
    "    [[16, 17, 18, 19, 20], \n",
    "     [21, 22, 23, 24, 25], \n",
    "     [26, 27, 28, 29, 30]]\n",
    "]\n",
    "print(num_list_3d)"
   ]
  },
  {
   "cell_type": "code",
   "execution_count": 26,
   "metadata": {},
   "outputs": [
    {
     "name": "stdout",
     "output_type": "stream",
     "text": [
      "18\n"
     ]
    }
   ],
   "source": [
    "# This is an example of accessing a single item from a 3D list\n",
    "print(num_list_3d[1][0][2])"
   ]
  },
  {
   "cell_type": "markdown",
   "metadata": {},
   "source": [
    "## Summary of Python Lists\n",
    "- Lists are a collection of related items in a single variable.\n",
    "- Each item is separated by comma ```,``` and all the items are enclosed within square brackets ```[]```.\n",
    "- Create list just like any other variable by assigning a list to a variable name using ```=``` symbol.\n",
    "- Use ```*``` symbol to create a list containing all similar values.\n",
    "- Use index to access single item in a list. The index of the first item is $0$ and last item is $-1$.\n",
    "- Use slicing with the ```:``` symbol to access multiple items in a list.\n",
    "- Use ```.append()``` function to add single items to a list.\n",
    "- Use ```+``` symbol or ```.extend()``` function to concatenate two lists.\n",
    "- Use keyword ```in``` to find if specific item exists in a list.\n",
    "- Use ```len()``` function to find the length of a list.\n",
    "- Lists can be extended to multiple dimensions"
   ]
  },
  {
   "cell_type": "code",
   "execution_count": null,
   "metadata": {},
   "outputs": [],
   "source": []
  }
 ],
 "metadata": {
  "kernelspec": {
   "display_name": "Python 3",
   "language": "python",
   "name": "python3"
  },
  "language_info": {
   "codemirror_mode": {
    "name": "ipython",
    "version": 3
   },
   "file_extension": ".py",
   "mimetype": "text/x-python",
   "name": "python",
   "nbconvert_exporter": "python",
   "pygments_lexer": "ipython3",
   "version": "3.8.5"
  },
  "toc-autonumbering": true,
  "toc-showcode": false,
  "toc-showmarkdowntxt": false,
  "widgets": {
   "application/vnd.jupyter.widget-state+json": {
    "state": {},
    "version_major": 2,
    "version_minor": 0
   }
  }
 },
 "nbformat": 4,
 "nbformat_minor": 4
}
