{
 "cells": [
  {
   "cell_type": "markdown",
   "metadata": {},
   "source": [
    "# Gradient Descent from Scratch in Python\n",
    "\n",
    "<img src=\"images/11/gdsc.png\" />"
   ]
  },
  {
   "cell_type": "markdown",
   "metadata": {},
   "source": [
    "## Importing the necessary packages"
   ]
  },
  {
   "cell_type": "code",
   "execution_count": 1,
   "metadata": {},
   "outputs": [],
   "source": [
    "import numpy as np\n",
    "from numpy import random\n",
    "import matplotlib.pyplot as plt"
   ]
  },
  {
   "cell_type": "markdown",
   "metadata": {},
   "source": [
    "## Linear Equation as Matrix Multiplication\n",
    "\n",
    "We can calculate the predictions of a linear equation $\\vec{y_{pred}}$ as the matrix multiplication between a vector $\\vec{x_{}}$ and a matrix $A$ as shown in the equation: \n",
    "### $$\\vec{y_{pred}}=\\vec{x_{}}A$$\n",
    "\n",
    "<img src=\"images/11/matmul.png\" />"
   ]
  },
  {
   "cell_type": "code",
   "execution_count": 2,
   "metadata": {},
   "outputs": [
    {
     "name": "stdout",
     "output_type": "stream",
     "text": [
      "[10]\n"
     ]
    }
   ],
   "source": [
    "# Matrix multiplication\n",
    "x1 = 2\n",
    "x0 = 1\n",
    "a1 = 3\n",
    "a0 = 4\n",
    "\n",
    "x = [x1, x0]\n",
    "A = [[a1], [a0]]\n",
    "\n",
    "y_pred = np.matmul(x, A)\n",
    "print(y_pred)"
   ]
  },
  {
   "cell_type": "markdown",
   "metadata": {},
   "source": [
    "## Mean Squared Error Loss\n",
    "\n",
    "We can calculate the MSE Loss as the average squared error between two vectors $\\vec{y_{true}}$ and $\\vec{y_{pred}}$. $n$ is the number of items in either $\\vec{y_{true}}$ or $\\vec{y_{pred}}$\n",
    "\n",
    "### $$MSE=\\frac{\\sum{(\\vec{y_{true}}-\\vec{y_{pred}})^{2}}}{n}$$"
   ]
  },
  {
   "cell_type": "code",
   "execution_count": 3,
   "metadata": {},
   "outputs": [
    {
     "name": "stdout",
     "output_type": "stream",
     "text": [
      "25.0\n"
     ]
    }
   ],
   "source": [
    "# Mean Squared Error\n",
    "y_true = np.array([10, 20, 30, 40, 50, 60, 70, 80, 90, 100])\n",
    "y_pred = np.array([5, 25, 25, 45, 45, 65, 65, 85, 85, 105])\n",
    "\n",
    "mse = np.mean((y_true - y_pred)**2)\n",
    "print(mse)"
   ]
  },
  {
   "cell_type": "markdown",
   "metadata": {},
   "source": [
    "## Gradient: Partial Derivative of MSE\n",
    "\n",
    "The Partial Derivatives of MSE with respect to each of the two parameters in the parameter matrix $A$ is defined as\n",
    "\n",
    "#### $$\\frac{\\partial MSE}{\\partial a_{1}}=\\frac{\\sum{-2\\vec{x_{1}}(\\vec{y_{true}}-\\vec{y_{pred}})}}{n}$$\n",
    "#### $$\\frac{\\partial MSE}{\\partial a_{0}}=\\frac{\\sum{-2\\vec{x_{0}}(\\vec{y_{true}}-\\vec{y_{pred}})}}{n}$$\n",
    "\n",
    "Where, $\\vec{y_{pred}}=\\vec{x_{}}A=\\vec{x_{1}}a_{1}+\\vec{x_{0}}a_{0}$"
   ]
  },
  {
   "cell_type": "code",
   "execution_count": 4,
   "metadata": {},
   "outputs": [
    {
     "name": "stdout",
     "output_type": "stream",
     "text": [
      "5.0 0.0\n"
     ]
    }
   ],
   "source": [
    "# MSE Partial Derivatives\n",
    "x1 = np.array([1, 2, 3, 4, 5, 6, 7, 8, 9, 10])\n",
    "x0 = np.array([1, 1, 1, 1, 1, 1, 1, 1, 1, 1])\n",
    "\n",
    "y_true = np.array([10, 20, 30, 40, 50, 60, 70, 80, 90, 100])\n",
    "y_pred = np.array([5, 25, 25, 45, 45, 65, 65, 85, 85, 105])\n",
    "\n",
    "pd_a1 = np.mean(-2*x1*(y_true - y_pred))\n",
    "pd_a0 = np.mean(-2*x0*(y_true - y_pred))\n",
    "\n",
    "print(pd_a1, pd_a0)"
   ]
  },
  {
   "cell_type": "markdown",
   "metadata": {},
   "source": [
    "## Descent: Updating the parameters in the direction of lowering the Loss\n",
    "\n",
    "We find the new values of the parameters by subtracting the product of the learning rate $\\eta$ and the Partial Derivatives of MSE from the previous values of the parameters.\n",
    "\n",
    "#### $$a_1=a_1-\\eta\\frac{\\partial MSE}{\\partial a_{1}}$$\n",
    "#### $$a_0=a_0-\\eta\\frac{\\partial MSE}{\\partial a_{0}}$$"
   ]
  },
  {
   "cell_type": "code",
   "execution_count": 5,
   "metadata": {},
   "outputs": [
    {
     "name": "stdout",
     "output_type": "stream",
     "text": [
      "2.95 4.0\n"
     ]
    }
   ],
   "source": [
    "lr = 0.01\n",
    "\n",
    "a1 = a1 - lr*pd_a1\n",
    "a0 = a0 - lr*pd_a0\n",
    "\n",
    "print(a1, a0)"
   ]
  },
  {
   "cell_type": "markdown",
   "metadata": {},
   "source": [
    "# Putting everything together"
   ]
  },
  {
   "cell_type": "markdown",
   "metadata": {},
   "source": [
    "## Importing the necessary packages"
   ]
  },
  {
   "cell_type": "code",
   "execution_count": 6,
   "metadata": {},
   "outputs": [],
   "source": [
    "import numpy as np\n",
    "from numpy import random\n",
    "import pandas as pd\n",
    "import matplotlib.pyplot as plt"
   ]
  },
  {
   "cell_type": "markdown",
   "metadata": {},
   "source": [
    "## Optional: Create some data for x and y"
   ]
  },
  {
   "cell_type": "code",
   "execution_count": 7,
   "metadata": {},
   "outputs": [
    {
     "data": {
      "image/png": "[encoded data removed]",
      "text/plain": [
       "<Figure size 432x288 with 1 Axes>"
      ]
     },
     "metadata": {
      "needs_background": "light"
     },
     "output_type": "display_data"
    }
   ],
   "source": [
    "# Prepare a dummy linear correlation of 200 data points. In reality you will already have data for both x and y\n",
    "num_data = 200\n",
    "\n",
    "# Inputs\n",
    "x = np.ones((num_data, 2)) # x0\n",
    "x[:,1] = random.random(num_data) # x1\n",
    "\n",
    "# Actual value of the Parameters\n",
    "a = [2, 5] # [a0, a1]\n",
    "\n",
    "# Outputs\n",
    "y_true = np.matmul(x, a) + random.random(num_data)\n",
    "\n",
    "# DataFrame\n",
    "true_df = pd.DataFrame({'intercept': x[:,0], 'distance':x[:,1], 'fare': y_true})\n",
    "true_df.plot(x='distance', y='fare', kind='scatter')\n",
    "true_df.to_csv('../data/taxi_fare.csv', index=False)"
   ]
  },
  {
   "cell_type": "markdown",
   "metadata": {},
   "source": [
    "## Load the dataset into Pandas DataFrame"
   ]
  },
  {
   "cell_type": "code",
   "execution_count": 8,
   "metadata": {},
   "outputs": [
    {
     "data": {
      "text/html": [
       "<div>\n",
       "<style scoped>\n",
       "    .dataframe tbody tr th:only-of-type {\n",
       "        vertical-align: middle;\n",
       "    }\n",
       "\n",
       "    .dataframe tbody tr th {\n",
       "        vertical-align: top;\n",
       "    }\n",
       "\n",
       "    .dataframe thead th {\n",
       "        text-align: right;\n",
       "    }\n",
       "</style>\n",
       "<table border=\"1\" class=\"dataframe\">\n",
       "  <thead>\n",
       "    <tr style=\"text-align: right;\">\n",
       "      <th></th>\n",
       "      <th>intercept</th>\n",
       "      <th>distance</th>\n",
       "      <th>fare</th>\n",
       "    </tr>\n",
       "  </thead>\n",
       "  <tbody>\n",
       "    <tr>\n",
       "      <th>0</th>\n",
       "      <td>1.0</td>\n",
       "      <td>0.878130</td>\n",
       "      <td>6.439778</td>\n",
       "    </tr>\n",
       "    <tr>\n",
       "      <th>1</th>\n",
       "      <td>1.0</td>\n",
       "      <td>0.278522</td>\n",
       "      <td>4.121839</td>\n",
       "    </tr>\n",
       "    <tr>\n",
       "      <th>2</th>\n",
       "      <td>1.0</td>\n",
       "      <td>0.895906</td>\n",
       "      <td>6.627702</td>\n",
       "    </tr>\n",
       "    <tr>\n",
       "      <th>3</th>\n",
       "      <td>1.0</td>\n",
       "      <td>0.095970</td>\n",
       "      <td>3.449995</td>\n",
       "    </tr>\n",
       "    <tr>\n",
       "      <th>4</th>\n",
       "      <td>1.0</td>\n",
       "      <td>0.976896</td>\n",
       "      <td>7.580175</td>\n",
       "    </tr>\n",
       "  </tbody>\n",
       "</table>\n",
       "</div>"
      ],
      "text/plain": [
       "   intercept  distance      fare\n",
       "0        1.0  0.878130  6.439778\n",
       "1        1.0  0.278522  4.121839\n",
       "2        1.0  0.895906  6.627702\n",
       "3        1.0  0.095970  3.449995\n",
       "4        1.0  0.976896  7.580175"
      ]
     },
     "execution_count": 8,
     "metadata": {},
     "output_type": "execute_result"
    }
   ],
   "source": [
    "taxi_fare_data = pd.read_csv('../data/taxi_fare.csv')\n",
    "\n",
    "# View the first 5 rows in the dataframe\n",
    "taxi_fare_data.head()"
   ]
  },
  {
   "cell_type": "code",
   "execution_count": 9,
   "metadata": {},
   "outputs": [
    {
     "name": "stdout",
     "output_type": "stream",
     "text": [
      "0      6.439778\n",
      "1      4.121839\n",
      "2      6.627702\n",
      "3      3.449995\n",
      "4      7.580175\n",
      "         ...   \n",
      "195    3.118416\n",
      "196    6.370674\n",
      "197    5.074930\n",
      "198    6.682675\n",
      "199    5.700285\n",
      "Name: fare, Length: 200, dtype: float64\n"
     ]
    }
   ],
   "source": [
    "# Access a single column in the dataframe\n",
    "distance = taxi_fare_data['fare']\n",
    "print(distance)"
   ]
  },
  {
   "cell_type": "code",
   "execution_count": 10,
   "metadata": {},
   "outputs": [
    {
     "name": "stdout",
     "output_type": "stream",
     "text": [
      "     intercept  distance\n",
      "0          1.0  0.878130\n",
      "1          1.0  0.278522\n",
      "2          1.0  0.895906\n",
      "3          1.0  0.095970\n",
      "4          1.0  0.976896\n",
      "..         ...       ...\n",
      "195        1.0  0.080232\n",
      "196        1.0  0.836706\n",
      "197        1.0  0.548511\n",
      "198        1.0  0.809486\n",
      "199        1.0  0.729624\n",
      "\n",
      "[200 rows x 2 columns]\n"
     ]
    }
   ],
   "source": [
    "# Access a multiple columns in the dataframe\n",
    "intercept_and_distance = taxi_fare_data[['intercept', 'distance']]\n",
    "print(intercept_and_distance)"
   ]
  },
  {
   "cell_type": "code",
   "execution_count": 11,
   "metadata": {
    "scrolled": true
   },
   "outputs": [
    {
     "name": "stdout",
     "output_type": "stream",
     "text": [
      "[[1.         0.87813033]\n",
      " [1.         0.2785217 ]\n",
      " [1.         0.89590647]\n",
      " [1.         0.09597005]\n",
      " [1.         0.97689648]\n",
      " [1.         0.22126544]\n",
      " [1.         0.23354467]\n",
      " [1.         0.64432002]\n",
      " [1.         0.73275259]\n",
      " [1.         0.70367866]\n",
      " [1.         0.35740837]\n",
      " [1.         0.7441028 ]\n",
      " [1.         0.60171145]\n",
      " [1.         0.51411667]\n",
      " [1.         0.57652844]\n",
      " [1.         0.37231209]\n",
      " [1.         0.20174472]\n",
      " [1.         0.46711396]\n",
      " [1.         0.72398346]\n",
      " [1.         0.56270986]\n",
      " [1.         0.05139355]\n",
      " [1.         0.18956301]\n",
      " [1.         0.28145292]\n",
      " [1.         0.39077493]\n",
      " [1.         0.61006426]\n",
      " [1.         0.13495379]\n",
      " [1.         0.67853628]\n",
      " [1.         0.12120548]\n",
      " [1.         0.6032724 ]\n",
      " [1.         0.97006642]\n",
      " [1.         0.9923459 ]\n",
      " [1.         0.61425339]\n",
      " [1.         0.65942612]\n",
      " [1.         0.91885849]\n",
      " [1.         0.88651491]\n",
      " [1.         0.22893155]\n",
      " [1.         0.8728295 ]\n",
      " [1.         0.08542163]\n",
      " [1.         0.72177718]\n",
      " [1.         0.82898232]\n",
      " [1.         0.1397915 ]\n",
      " [1.         0.04273881]\n",
      " [1.         0.70907034]\n",
      " [1.         0.32571265]\n",
      " [1.         0.70675415]\n",
      " [1.         0.6506517 ]\n",
      " [1.         0.64031476]\n",
      " [1.         0.48056848]\n",
      " [1.         0.69058861]\n",
      " [1.         0.77428572]\n",
      " [1.         0.72077869]\n",
      " [1.         0.05100232]\n",
      " [1.         0.27770094]\n",
      " [1.         0.91237309]\n",
      " [1.         0.91623836]\n",
      " [1.         0.39594563]\n",
      " [1.         0.47613308]\n",
      " [1.         0.4194025 ]\n",
      " [1.         0.78364227]\n",
      " [1.         0.81295646]\n",
      " [1.         0.0720653 ]\n",
      " [1.         0.65962027]\n",
      " [1.         0.18009072]\n",
      " [1.         0.97248732]\n",
      " [1.         0.96391512]\n",
      " [1.         0.71171628]\n",
      " [1.         0.35715323]\n",
      " [1.         0.00474158]\n",
      " [1.         0.97468652]\n",
      " [1.         0.70479773]\n",
      " [1.         0.60198565]\n",
      " [1.         0.34552431]\n",
      " [1.         0.77318175]\n",
      " [1.         0.39131678]\n",
      " [1.         0.19241203]\n",
      " [1.         0.44382874]\n",
      " [1.         0.7235257 ]\n",
      " [1.         0.82790297]\n",
      " [1.         0.10502775]\n",
      " [1.         0.37154204]\n",
      " [1.         0.86539728]\n",
      " [1.         0.79923593]\n",
      " [1.         0.84660114]\n",
      " [1.         0.22339229]\n",
      " [1.         0.50031857]\n",
      " [1.         0.69181643]\n",
      " [1.         0.54615381]\n",
      " [1.         0.97470232]\n",
      " [1.         0.27501743]\n",
      " [1.         0.28328512]\n",
      " [1.         0.11363247]\n",
      " [1.         0.48728837]\n",
      " [1.         0.34576036]\n",
      " [1.         0.1293507 ]\n",
      " [1.         0.07579679]\n",
      " [1.         0.21728718]\n",
      " [1.         0.83070874]\n",
      " [1.         0.7761293 ]\n",
      " [1.         0.03238947]\n",
      " [1.         0.46835407]\n",
      " [1.         0.18084207]\n",
      " [1.         0.56523199]\n",
      " [1.         0.4518412 ]\n",
      " [1.         0.16449763]\n",
      " [1.         0.76680334]\n",
      " [1.         0.02430543]\n",
      " [1.         0.85086438]\n",
      " [1.         0.52441818]\n",
      " [1.         0.48209584]\n",
      " [1.         0.11566189]\n",
      " [1.         0.91778413]\n",
      " [1.         0.5915248 ]\n",
      " [1.         0.3089399 ]\n",
      " [1.         0.30526817]\n",
      " [1.         0.62344779]\n",
      " [1.         0.96122377]\n",
      " [1.         0.51370621]\n",
      " [1.         0.51233946]\n",
      " [1.         0.99945841]\n",
      " [1.         0.28481426]\n",
      " [1.         0.67512099]\n",
      " [1.         0.51496593]\n",
      " [1.         0.36649151]\n",
      " [1.         0.51878491]\n",
      " [1.         0.11495564]\n",
      " [1.         0.61979179]\n",
      " [1.         0.40812318]\n",
      " [1.         0.99829657]\n",
      " [1.         0.92992159]\n",
      " [1.         0.27399636]\n",
      " [1.         0.72884207]\n",
      " [1.         0.04994662]\n",
      " [1.         0.55797492]\n",
      " [1.         0.51535926]\n",
      " [1.         0.71060829]\n",
      " [1.         0.54533667]\n",
      " [1.         0.39826059]\n",
      " [1.         0.34737166]\n",
      " [1.         0.86074541]\n",
      " [1.         0.46065295]\n",
      " [1.         0.06564919]\n",
      " [1.         0.69203101]\n",
      " [1.         0.86638447]\n",
      " [1.         0.44861885]\n",
      " [1.         0.59756876]\n",
      " [1.         0.00598403]\n",
      " [1.         0.60793656]\n",
      " [1.         0.76742277]\n",
      " [1.         0.76572752]\n",
      " [1.         0.06502309]\n",
      " [1.         0.2136195 ]\n",
      " [1.         0.84592919]\n",
      " [1.         0.21014068]\n",
      " [1.         0.48501201]\n",
      " [1.         0.64256182]\n",
      " [1.         0.81310622]\n",
      " [1.         0.90494756]\n",
      " [1.         0.07430112]\n",
      " [1.         0.80806707]\n",
      " [1.         0.22112029]\n",
      " [1.         0.00555297]\n",
      " [1.         0.15456838]\n",
      " [1.         0.51170484]\n",
      " [1.         0.52308031]\n",
      " [1.         0.6784775 ]\n",
      " [1.         0.52058408]\n",
      " [1.         0.17771291]\n",
      " [1.         0.98325859]\n",
      " [1.         0.66108827]\n",
      " [1.         0.54427437]\n",
      " [1.         0.71741854]\n",
      " [1.         0.04435966]\n",
      " [1.         0.01905554]\n",
      " [1.         0.75892637]\n",
      " [1.         0.06465093]\n",
      " [1.         0.54521321]\n",
      " [1.         0.8568609 ]\n",
      " [1.         0.3736195 ]\n",
      " [1.         0.46483639]\n",
      " [1.         0.69614563]\n",
      " [1.         0.99878266]\n",
      " [1.         0.38408393]\n",
      " [1.         0.85825867]\n",
      " [1.         0.7373185 ]\n",
      " [1.         0.03463817]\n",
      " [1.         0.82793902]\n",
      " [1.         0.03438798]\n",
      " [1.         0.98699784]\n",
      " [1.         0.89480023]\n",
      " [1.         0.03235253]\n",
      " [1.         0.6790024 ]\n",
      " [1.         0.95240847]\n",
      " [1.         0.75823852]\n",
      " [1.         0.64879568]\n",
      " [1.         0.68829757]\n",
      " [1.         0.08023219]\n",
      " [1.         0.83670568]\n",
      " [1.         0.54851141]\n",
      " [1.         0.80948567]\n",
      " [1.         0.72962358]]\n"
     ]
    }
   ],
   "source": [
    "# Convert the columns to pure list values (without column names)\n",
    "intercept_and_distance_values = taxi_fare_data[['intercept', 'distance']].values\n",
    "print(intercept_and_distance_values)"
   ]
  },
  {
   "cell_type": "markdown",
   "metadata": {},
   "source": [
    "## Plot the dataset using Matplotlib"
   ]
  },
  {
   "cell_type": "code",
   "execution_count": 12,
   "metadata": {},
   "outputs": [
    {
     "data": {
      "text/plain": [
       "Text(0, 0.5, 'fare')"
      ]
     },
     "execution_count": 12,
     "metadata": {},
     "output_type": "execute_result"
    },
    {
     "data": {
      "image/png": "[encoded data removed]",
      "text/plain": [
       "<Figure size 432x288 with 1 Axes>"
      ]
     },
     "metadata": {
      "needs_background": "light"
     },
     "output_type": "display_data"
    }
   ],
   "source": [
    "plt.scatter(x=taxi_fare_data['distance'], y=taxi_fare_data['fare'], label='y_true')\n",
    "plt.legend()\n",
    "plt.xlabel('distance')\n",
    "plt.ylabel('fare')"
   ]
  },
  {
   "cell_type": "markdown",
   "metadata": {},
   "source": [
    "## Wrap everything into a function"
   ]
  },
  {
   "cell_type": "code",
   "execution_count": 13,
   "metadata": {},
   "outputs": [],
   "source": [
    "def linear_eqn_gradient_descent(x, y_true, lr=0.1, num_epochs=500):   \n",
    "    # Plot the ground truth\n",
    "    plt.scatter(x['distance'], y_true, label='y_true')\n",
    "    \n",
    "    # Step0: Randomly assign starting parameters\n",
    "    a = random.random(2)\n",
    "\n",
    "    for epoch in range(num_epochs+1):\n",
    "        # Step1: Matrix Multiplication to calculate y_pred\n",
    "        y_pred = np.matmul(x.values, a)\n",
    "\n",
    "        # Step2: Loss Calculation\n",
    "        mse = np.mean((y_true - y_pred)**2)\n",
    "\n",
    "        # Step3: Gradient: Calculate Partial Derivatives\n",
    "        pd_a1 = np.mean(-2*x['distance']*(y_true - y_pred))\n",
    "        pd_a0 = np.mean(-2*x['intercept']*(y_true - y_pred))\n",
    "\n",
    "        # Step4: Descent: Updating the parameters in the direction of lowering the Loss\n",
    "        a[1] = a[1] - lr*pd_a1\n",
    "        a[0] = a[0] - lr*pd_a0\n",
    "\n",
    "        if epoch%100 == 0:\n",
    "            # Plot the line on every 100th trial\n",
    "            plt.scatter(x['distance'], y_pred, label=epoch)\n",
    "\n",
    "        # Step5: Repeat from Step1\n",
    "    plt.legend()\n",
    "    plt.xlabel('distance')\n",
    "    plt.ylabel('fare')\n",
    "    print('Final MSE = ', mse)"
   ]
  },
  {
   "cell_type": "code",
   "execution_count": 14,
   "metadata": {},
   "outputs": [
    {
     "name": "stdout",
     "output_type": "stream",
     "text": [
      "Final MSE =  0.07759749008986103\n"
     ]
    },
    {
     "data": {
      "image/png": "[encoded data removed]",
      "text/plain": [
       "<Figure size 432x288 with 1 Axes>"
      ]
     },
     "metadata": {
      "needs_background": "light"
     },
     "output_type": "display_data"
    }
   ],
   "source": [
    "linear_eqn_gradient_descent(x=taxi_fare_data[['intercept', 'distance']], y_true=taxi_fare_data['fare'])"
   ]
  },
  {
   "cell_type": "code",
   "execution_count": 15,
   "metadata": {},
   "outputs": [
    {
     "name": "stdout",
     "output_type": "stream",
     "text": [
      "Final MSE =  0.17615363816868393\n"
     ]
    },
    {
     "data": {
      "image/png": "[encoded data removed]",
      "text/plain": [
       "<Figure size 432x288 with 1 Axes>"
      ]
     },
     "metadata": {
      "needs_background": "light"
     },
     "output_type": "display_data"
    }
   ],
   "source": [
    "linear_eqn_gradient_descent(x=taxi_fare_data[['intercept', 'distance']], y_true=taxi_fare_data['fare'], lr=0.01)"
   ]
  },
  {
   "cell_type": "code",
   "execution_count": 16,
   "metadata": {},
   "outputs": [
    {
     "name": "stdout",
     "output_type": "stream",
     "text": [
      "Final MSE =  9.698437287401462e+202\n"
     ]
    },
    {
     "data": {
      "image/png": "[encoded data removed]",
      "text/plain": [
       "<Figure size 432x288 with 1 Axes>"
      ]
     },
     "metadata": {
      "needs_background": "light"
     },
     "output_type": "display_data"
    }
   ],
   "source": [
    "linear_eqn_gradient_descent(x=taxi_fare_data[['intercept', 'distance']], y_true=taxi_fare_data['fare'], lr=1)"
   ]
  },
  {
   "cell_type": "markdown",
   "metadata": {},
   "source": [
    "## Non-Linearities"
   ]
  },
  {
   "cell_type": "code",
   "execution_count": 17,
   "metadata": {},
   "outputs": [
    {
     "name": "stdout",
     "output_type": "stream",
     "text": [
      "[30  0]\n"
     ]
    }
   ],
   "source": [
    "# ReLU in numpy\n",
    "x = [30, -32]\n",
    "relu = np.maximum(0, x)\n",
    "print(relu)"
   ]
  },
  {
   "cell_type": "code",
   "execution_count": 18,
   "metadata": {},
   "outputs": [
    {
     "name": "stdout",
     "output_type": "stream",
     "text": [
      "[0.11920292 0.88079708]\n"
     ]
    }
   ],
   "source": [
    "# Softmax in numpy\n",
    "x = [30, 32]\n",
    "softmax = np.exp(x) / np.sum(np.exp(x))\n",
    "print(softmax)"
   ]
  },
  {
   "cell_type": "markdown",
   "metadata": {},
   "source": [
    "## Categorical Cross Entropy Loss"
   ]
  },
  {
   "cell_type": "code",
   "execution_count": 19,
   "metadata": {},
   "outputs": [
    {
     "name": "stdout",
     "output_type": "stream",
     "text": [
      "0.05512413479491803\n"
     ]
    }
   ],
   "source": [
    "# Categorical Crossentropy Loss in numpy\n",
    "y_true = [0, 1]\n",
    "y_pred = softmax\n",
    "cce_loss = -np.sum(y_true * np.log10(y_pred))\n",
    "print(cce_loss)"
   ]
  },
  {
   "cell_type": "code",
   "execution_count": null,
   "metadata": {},
   "outputs": [],
   "source": []
  }
 ],
 "metadata": {
  "kernelspec": {
   "display_name": "Python 3",
   "language": "python",
   "name": "python3"
  },
  "language_info": {
   "codemirror_mode": {
    "name": "ipython",
    "version": 3
   },
   "file_extension": ".py",
   "mimetype": "text/x-python",
   "name": "python",
   "nbconvert_exporter": "python",
   "pygments_lexer": "ipython3",
   "version": "3.8.3"
  },
  "widgets": {
   "application/vnd.jupyter.widget-state+json": {
    "state": {},
    "version_major": 2,
    "version_minor": 0
   }
  }
 },
 "nbformat": 4,
 "nbformat_minor": 4
}
