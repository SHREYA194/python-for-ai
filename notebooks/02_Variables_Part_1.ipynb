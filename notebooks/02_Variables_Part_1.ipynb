{
 "cells": [
  {
   "cell_type": "markdown",
   "metadata": {},
   "source": [
    "# Python Variables - Part 1"
   ]
  },
  {
   "cell_type": "markdown",
   "metadata": {},
   "source": [
    "## What is a variable?\n",
    "- In simple terms, a variable is just a name that store a value. \n",
    "- Internally in Python, a variable is a location in your computer's memory that stores a value.\n",
    "- You can assign a value to a variable using the ```=``` symbol."
   ]
  },
  {
   "cell_type": "code",
   "execution_count": 1,
   "metadata": {},
   "outputs": [
    {
     "name": "stdout",
     "output_type": "stream",
     "text": [
      "a = 1000\n"
     ]
    }
   ],
   "source": [
    "# This is an example of creating a variable \"a\" and assigning it a value 1000\n",
    "a = 1000\n",
    "print('a =', a)"
   ]
  },
  {
   "cell_type": "code",
   "execution_count": 2,
   "metadata": {},
   "outputs": [
    {
     "name": "stdout",
     "output_type": "stream",
     "text": [
      "a + 5 = 1005\n",
      "a = 1000\n"
     ]
    }
   ],
   "source": [
    "# In subsequent lines of code, you can use \"a\" instead of typing 1000 everytime\n",
    "print('a + 5 =', a+5)\n",
    "\n",
    "# The value of \"a\" did not change in the previous line since we did not assign \"a\" to the new value\n",
    "print('a =', a)"
   ]
  },
  {
   "cell_type": "code",
   "execution_count": 3,
   "metadata": {},
   "outputs": [
    {
     "name": "stdout",
     "output_type": "stream",
     "text": [
      "Original value of a = 1000\n",
      "Updated value of a = 1005\n",
      "New value of a = 20\n"
     ]
    }
   ],
   "source": [
    "# To make some changes to an already assigned variable, just use the \"=\" symbol again\n",
    "print('Original value of a =', a)\n",
    "\n",
    "# Add 5 to \"a\" and assign it back to \"a\"\n",
    "a = a+5\n",
    "print('Updated value of a =', a)\n",
    "\n",
    "# Assigning \"a\" to a completely new value\n",
    "a = 20\n",
    "print('New value of a =', a)"
   ]
  },
  {
   "cell_type": "code",
   "execution_count": 4,
   "metadata": {},
   "outputs": [
    {
     "name": "stdout",
     "output_type": "stream",
     "text": [
      "b = 10 c = 10\n"
     ]
    }
   ],
   "source": [
    "# You can assign two variables to the same value as follows\n",
    "b = c = 10\n",
    "print('b =', b, 'c =', c)"
   ]
  },
  {
   "cell_type": "code",
   "execution_count": 5,
   "metadata": {},
   "outputs": [
    {
     "name": "stdout",
     "output_type": "stream",
     "text": [
      "b = 15 c = 10\n"
     ]
    }
   ],
   "source": [
    "# You can now independently update either \"b\" or \"c\" without affecting each other\n",
    "b = b+5\n",
    "print('b =', b, 'c =', c)"
   ]
  },
  {
   "cell_type": "markdown",
   "metadata": {},
   "source": [
    "## Variable Naming conventions\n",
    "- Python variables can be either a single or multiple letters. \n",
    "- Python variables can also include numbers and underscores, but must start only with either a letter or underscore. Variable names cannot start with numbers.\n",
    "- Variable names are case sensitive which means \"AI\" is a different variable name from \"ai\"\n",
    "- It is recommended to name the variables something meaningful."
   ]
  },
  {
   "cell_type": "code",
   "execution_count": 6,
   "metadata": {},
   "outputs": [
    {
     "name": "stdout",
     "output_type": "stream",
     "text": [
      "a = 1000\n",
      "height = 170\n"
     ]
    }
   ],
   "source": [
    "# This is an example for single letter variable name\n",
    "a = 1000\n",
    "print('a =', a)\n",
    "\n",
    "# This is an example for multiple letter variable name\n",
    "height = 170\n",
    "print('height =', height)"
   ]
  },
  {
   "cell_type": "code",
   "execution_count": 7,
   "metadata": {},
   "outputs": [
    {
     "name": "stdout",
     "output_type": "stream",
     "text": [
      "cost = 20\n"
     ]
    }
   ],
   "source": [
    "# This is an example of a variable with underscore\n",
    "item_cost = 20\n",
    "print('cost =', item_cost)"
   ]
  },
  {
   "cell_type": "code",
   "execution_count": 8,
   "metadata": {},
   "outputs": [
    {
     "name": "stdout",
     "output_type": "stream",
     "text": [
      "27 25 23 21\n"
     ]
    }
   ],
   "source": [
    "# This is an example of variables with different cases\n",
    "TEMP = 27\n",
    "temp = 25\n",
    "Temp = 23\n",
    "TeMp = 21\n",
    "\n",
    "print(TEMP, temp, Temp, TeMp)"
   ]
  },
  {
   "cell_type": "markdown",
   "metadata": {},
   "source": [
    "## Types of Python Variables\n",
    "There are a few types of Python Variables. The most important ones used in AI projects are:\n",
    "1. Integer\n",
    "2. Float\n",
    "3. String\n",
    "4. List\n",
    "6. Dictionary"
   ]
  },
  {
   "cell_type": "markdown",
   "metadata": {},
   "source": [
    "### Python Integer\n",
    "- An integer is any positive or negative whole number\n",
    "- An integer cannot contain a decimal point"
   ]
  },
  {
   "cell_type": "code",
   "execution_count": 9,
   "metadata": {},
   "outputs": [
    {
     "name": "stdout",
     "output_type": "stream",
     "text": [
      "a = 1000\n"
     ]
    }
   ],
   "source": [
    "# This is an example of a Python positive integer\n",
    "a = 1000\n",
    "print('a =', a)"
   ]
  },
  {
   "cell_type": "code",
   "execution_count": 10,
   "metadata": {},
   "outputs": [
    {
     "name": "stdout",
     "output_type": "stream",
     "text": [
      "b = -10\n"
     ]
    }
   ],
   "source": [
    "# This is an example of a Python negative integer\n",
    "b = -10\n",
    "print('b =', b)"
   ]
  },
  {
   "cell_type": "code",
   "execution_count": 11,
   "metadata": {},
   "outputs": [
    {
     "name": "stdout",
     "output_type": "stream",
     "text": [
      "Integer value of c = 3\n"
     ]
    }
   ],
   "source": [
    "# You can convert any decimal number to integer using the int() function\n",
    "c = int(3.14)\n",
    "print('Integer value of c =', c)"
   ]
  },
  {
   "cell_type": "code",
   "execution_count": 12,
   "metadata": {},
   "outputs": [
    {
     "name": "stdout",
     "output_type": "stream",
     "text": [
      "Integer value of d = 2\n"
     ]
    }
   ],
   "source": [
    "# However, take note this is not the same as rounding and all digits after decimal place are simply dropped, no matter their value\n",
    "d = int(2.99)\n",
    "print('Integer value of d =', d)"
   ]
  },
  {
   "cell_type": "markdown",
   "metadata": {},
   "source": [
    "### Python Float\n",
    "- A float is any positive or negative decimal number"
   ]
  },
  {
   "cell_type": "code",
   "execution_count": 13,
   "metadata": {},
   "outputs": [
    {
     "name": "stdout",
     "output_type": "stream",
     "text": [
      "pi = 3.14\n"
     ]
    }
   ],
   "source": [
    "# This is an example of a Python positive float\n",
    "pi = 3.14\n",
    "print('pi =', pi)"
   ]
  },
  {
   "cell_type": "code",
   "execution_count": 14,
   "metadata": {},
   "outputs": [
    {
     "name": "stdout",
     "output_type": "stream",
     "text": [
      "Negative pi = -3.14\n"
     ]
    }
   ],
   "source": [
    "# This is an example of a Python negative float\n",
    "neg_pi = -3.14\n",
    "print('Negative pi =', neg_pi)"
   ]
  },
  {
   "cell_type": "code",
   "execution_count": 15,
   "metadata": {},
   "outputs": [
    {
     "name": "stdout",
     "output_type": "stream",
     "text": [
      "Float value of c = 3.0\n"
     ]
    }
   ],
   "source": [
    "# You can convert any integer to a float using the float() function\n",
    "# However, this is not so useful, as the digits after decimal point will always be 0\n",
    "c = 3\n",
    "float_c = float(c)\n",
    "print('Float value of c =', float_c)"
   ]
  },
  {
   "cell_type": "code",
   "execution_count": 16,
   "metadata": {},
   "outputs": [
    {
     "name": "stdout",
     "output_type": "stream",
     "text": [
      "pi = 3.14 int_pi = 3 float_pi = 3.0\n"
     ]
    }
   ],
   "source": [
    "# The same happens if you convert a float to an int and back to a float\n",
    "# The loss of decimal digits is permanent and cannot be recovered\n",
    "pi = 3.14\n",
    "int_pi = int(pi)\n",
    "float_pi = float(int_pi)\n",
    "print('pi =', pi, 'int_pi =', int_pi, 'float_pi =', float_pi)"
   ]
  },
  {
   "cell_type": "markdown",
   "metadata": {},
   "source": [
    "### Python String\n",
    "- A string is any group of letters or numbers enclosed within quotes\n",
    "- A string can be enclosed within either single '' or double quotes \"\""
   ]
  },
  {
   "cell_type": "code",
   "execution_count": 17,
   "metadata": {},
   "outputs": [
    {
     "name": "stdout",
     "output_type": "stream",
     "text": [
      "Agni Data\n",
      "Agni Data\n"
     ]
    }
   ],
   "source": [
    "# This is an example of a Python string using single quotes\n",
    "our_name = 'Agni Data'\n",
    "print(our_name)\n",
    "\n",
    "# This is an example of a Python string using double quotes\n",
    "our_name_again = \"Agni Data\"\n",
    "print(our_name_again)"
   ]
  },
  {
   "cell_type": "code",
   "execution_count": 18,
   "metadata": {},
   "outputs": [
    {
     "name": "stdout",
     "output_type": "stream",
     "text": [
      "You have to be odd to be number 1!\n"
     ]
    }
   ],
   "source": [
    "# This is an example of a Python string with letters, numbers and special characters\n",
    "quote = 'You have to be odd to be number 1!'\n",
    "print(quote)"
   ]
  },
  {
   "cell_type": "code",
   "execution_count": 19,
   "metadata": {},
   "outputs": [
    {
     "name": "stdout",
     "output_type": "stream",
     "text": [
      "You have to be odd to be number 1!- Dr. Seuss\n"
     ]
    }
   ],
   "source": [
    "# You can add two strings together to concatenate them\n",
    "author = '- Dr. Seuss'\n",
    "quote_with_author = quote+author\n",
    "\n",
    "print(quote_with_author)"
   ]
  },
  {
   "cell_type": "code",
   "execution_count": 20,
   "metadata": {},
   "outputs": [
    {
     "name": "stdout",
     "output_type": "stream",
     "text": [
      "height = 170\n",
      "height = 170\n"
     ]
    }
   ],
   "source": [
    "# You can convert an integer or a float to a string by using the str() function. We normally do this to concatenate a number to a string\n",
    "\n",
    "# This is an integer\n",
    "height = 170\n",
    "\n",
    "# Converting integer to string\n",
    "height_string = str(height)\n",
    "print('height =', height)\n",
    "print('height = ' + height_string)"
   ]
  },
  {
   "cell_type": "code",
   "execution_count": 21,
   "metadata": {},
   "outputs": [],
   "source": [
    "# You cannot concatenate an integer to a string. Below code will result in an error\n",
    "# print('height = ' + height)"
   ]
  },
  {
   "cell_type": "markdown",
   "metadata": {},
   "source": [
    "## Printing - Advanced\n",
    "\n",
    "- Most of the time, we just need to use the basic printing that we learned in the last lecture and we have been using heavily in this lecture.\n",
    "- However, there are some special circumstances where we would want to use some advanced printing functionalities using ```f-string```"
   ]
  },
  {
   "cell_type": "code",
   "execution_count": 22,
   "metadata": {},
   "outputs": [
    {
     "name": "stdout",
     "output_type": "stream",
     "text": [
      "10/3 = 3.3333333333333335\n"
     ]
    }
   ],
   "source": [
    "# This is an example of a float with many decimal places\n",
    "ten_by_three = 10/3\n",
    "print('10/3 =', ten_by_three)"
   ]
  },
  {
   "cell_type": "code",
   "execution_count": 23,
   "metadata": {},
   "outputs": [
    {
     "name": "stdout",
     "output_type": "stream",
     "text": [
      "10/3 = 3.3333333333333335\n"
     ]
    }
   ],
   "source": [
    "# This is an example of printing using f-string\n",
    "print(f'10/3 = {ten_by_three}')"
   ]
  },
  {
   "cell_type": "code",
   "execution_count": 24,
   "metadata": {},
   "outputs": [
    {
     "name": "stdout",
     "output_type": "stream",
     "text": [
      "10/3 = 3.33\n"
     ]
    }
   ],
   "source": [
    "# This is an example of using f-string to print only 2 decimal places\n",
    "print(f'10/3 = {ten_by_three:.2f}')"
   ]
  },
  {
   "cell_type": "code",
   "execution_count": null,
   "metadata": {},
   "outputs": [],
   "source": []
  }
 ],
 "metadata": {
  "kernelspec": {
   "display_name": "Python 3",
   "language": "python",
   "name": "python3"
  },
  "language_info": {
   "codemirror_mode": {
    "name": "ipython",
    "version": 3
   },
   "file_extension": ".py",
   "mimetype": "text/x-python",
   "name": "python",
   "nbconvert_exporter": "python",
   "pygments_lexer": "ipython3",
   "version": "3.7.7"
  },
  "toc-autonumbering": true,
  "toc-showcode": false,
  "toc-showmarkdowntxt": false,
  "toc-showtags": false,
  "widgets": {
   "application/vnd.jupyter.widget-state+json": {
    "state": {},
    "version_major": 2,
    "version_minor": 0
   }
  }
 },
 "nbformat": 4,
 "nbformat_minor": 4
}
