{
 "cells": [
  {
   "cell_type": "markdown",
   "metadata": {},
   "source": [
    "# Python Variables - Part 3 [Dictionaries]"
   ]
  },
  {
   "cell_type": "markdown",
   "metadata": {},
   "source": [
    "## What is a Python Dictionary?\n",
    "- Similar to Lists, a Python Dictionary is also a collection of related items stored in a single variable.\n",
    "- However, each individual item in a dictionary contains a \"key\" and a \"value\" seperated by a colon ```:```.\n",
    "- Individual ```key:value``` pairs in a dictionary are separated by comma and all the items are enclosed within curly brackets ```{}```."
   ]
  },
  {
   "cell_type": "markdown",
   "metadata": {},
   "source": [
    "## Creating dictionaries\n",
    "- Creating a dictionary is the same as creating any other variable. We can assign a collection of ```key:value``` pairs to a variable using the ```=``` symbol"
   ]
  },
  {
   "cell_type": "code",
   "execution_count": 1,
   "metadata": {},
   "outputs": [
    {
     "name": "stdout",
     "output_type": "stream",
     "text": [
      "{'Sunday': 1, 'Monday': 2, 'Tuesday': 3, 'Wednesday': 4, 'Thursday': 5, 'Friday': 6, 'Saturday': 7}\n"
     ]
    }
   ],
   "source": [
    "# This is an example of a Python dictionary containing string keys and numeric values\n",
    "days_of_the_week = {'Sunday':1, 'Monday':2, 'Tuesday':3, 'Wednesday':4, 'Thursday':5, 'Friday':6, 'Saturday':7}\n",
    "print(days_of_the_week)"
   ]
  },
  {
   "cell_type": "code",
   "execution_count": 2,
   "metadata": {},
   "outputs": [
    {
     "name": "stdout",
     "output_type": "stream",
     "text": [
      "{1: 'Captain Marvel', 2: 'Avengers: Endgame', 3: 'Spider-Man: Far From Home'}\n"
     ]
    }
   ],
   "source": [
    "# This is an example of a Python dictionary containing numeric keys and string values\n",
    "marvel_movies_2019 = {1:'Captain Marvel', 2:'Avengers: Endgame', 3:'Spider-Man: Far From Home'}\n",
    "print(marvel_movies_2019)"
   ]
  },
  {
   "cell_type": "code",
   "execution_count": 3,
   "metadata": {},
   "outputs": [
    {
     "name": "stdout",
     "output_type": "stream",
     "text": [
      "{'Products': ['Shirts', 'Pants', 'Jackets', 'Hats'], 'Price': [80, 140, 100, 60]}\n"
     ]
    }
   ],
   "source": [
    "# This is an example of a Python dictionary containing list values\n",
    "inventory = {'Products':['Shirts', 'Pants', 'Jackets', 'Hats'], 'Price':[80, 140, 100, 60]}\n",
    "print(inventory)"
   ]
  },
  {
   "cell_type": "code",
   "execution_count": 4,
   "metadata": {},
   "outputs": [
    {
     "name": "stdout",
     "output_type": "stream",
     "text": [
      "{'Sunday': 3, 'Monday': 2}\n"
     ]
    }
   ],
   "source": [
    "# Each key needs to be unique within a dictionary. Any attempt to use the same key will result in its value getting overwritten.\n",
    "duplicated_keys = {'Sunday':1, 'Monday':2, 'Sunday':3}\n",
    "print(duplicated_keys)"
   ]
  },
  {
   "cell_type": "markdown",
   "metadata": {},
   "source": [
    "## Accessing Items in a Python Dictionary\n",
    "- Dictionaries are meant to be used in situations where we want to access the ```value``` given a specific ```key```.\n",
    "- Similar to lists, to access an item in a dictionary we use the square brackets with the dictionary name\n",
    "- However, unlike lists where we use the index position within square brackets, in dictionaries we use the ```key``` within square brackets.\n",
    "\n",
    "<img src=\"images/04/dict_access.png\" />"
   ]
  },
  {
   "cell_type": "code",
   "execution_count": 5,
   "metadata": {},
   "outputs": [
    {
     "name": "stdout",
     "output_type": "stream",
     "text": [
      "1\n"
     ]
    }
   ],
   "source": [
    "# This is an example to access the value of 'Sunday' in the dictionary days_of_the_week\n",
    "days_of_the_week = {'Sunday':1, 'Monday':2, 'Tuesday':3, 'Wednesday':4, 'Thursday':5, 'Friday':6, 'Saturday':7}\n",
    "print(days_of_the_week['Sunday'])"
   ]
  },
  {
   "cell_type": "code",
   "execution_count": 6,
   "metadata": {},
   "outputs": [
    {
     "name": "stdout",
     "output_type": "stream",
     "text": [
      "7\n"
     ]
    }
   ],
   "source": [
    "# This is an example to access the value of 'Saturday' in the dictionary days_of_the_week\n",
    "print(days_of_the_week['Saturday'])"
   ]
  },
  {
   "cell_type": "markdown",
   "metadata": {},
   "source": [
    "### Finding all values in a dictionary\n",
    "- To find all the values in a dictionary, we use the ```.values()``` function. \n",
    "- Notice how we call the function after the name of the dictionary using a ```.``` dot.\n",
    "- You can convert the output from the ```.values()``` function by using the ```list()``` function."
   ]
  },
  {
   "cell_type": "code",
   "execution_count": 7,
   "metadata": {},
   "outputs": [
    {
     "name": "stdout",
     "output_type": "stream",
     "text": [
      "dict_values([1, 2, 3, 4, 5, 6, 7])\n"
     ]
    }
   ],
   "source": [
    "# This is an example to find all values in a dictionary\n",
    "values = days_of_the_week.values()\n",
    "print(values)"
   ]
  },
  {
   "cell_type": "code",
   "execution_count": 8,
   "metadata": {},
   "outputs": [
    {
     "name": "stdout",
     "output_type": "stream",
     "text": [
      "[1, 2, 3, 4, 5, 6, 7]\n"
     ]
    }
   ],
   "source": [
    "# This is an example of converting the dictionary values into a Python list\n",
    "values_list = list(values)\n",
    "print(values_list)"
   ]
  },
  {
   "cell_type": "markdown",
   "metadata": {},
   "source": [
    "### Finding all keys in a dictionary\n",
    "- To find all the keys in a dictionary, we use the ```.keys()``` function. \n",
    "- Notice how we call the function after the name of the dictionary using a ```.``` dot.\n",
    "- You can convert the output from the ```.keys()``` function by using the ```list()``` function."
   ]
  },
  {
   "cell_type": "code",
   "execution_count": 9,
   "metadata": {},
   "outputs": [
    {
     "name": "stdout",
     "output_type": "stream",
     "text": [
      "dict_keys(['Sunday', 'Monday', 'Tuesday', 'Wednesday', 'Thursday', 'Friday', 'Saturday'])\n"
     ]
    }
   ],
   "source": [
    "# This is an example to find all keys in a dictionary\n",
    "keys = days_of_the_week.keys()\n",
    "print(keys)"
   ]
  },
  {
   "cell_type": "code",
   "execution_count": 10,
   "metadata": {},
   "outputs": [
    {
     "name": "stdout",
     "output_type": "stream",
     "text": [
      "['Sunday', 'Monday', 'Tuesday', 'Wednesday', 'Thursday', 'Friday', 'Saturday']\n"
     ]
    }
   ],
   "source": [
    "# This is an example of converting the dictionary keys into a Python list\n",
    "keys_list = list(keys)\n",
    "print(keys_list)"
   ]
  },
  {
   "cell_type": "markdown",
   "metadata": {},
   "source": [
    "### Finding if a specific key exists in a dictionary\n",
    "- Sometimes, we might want to find if a specific ```key``` exists in a dictionary. \n",
    "- We can achieve this by using the ```in``` keyword after using the ```.keys()``` function."
   ]
  },
  {
   "cell_type": "code",
   "execution_count": 11,
   "metadata": {},
   "outputs": [
    {
     "data": {
      "text/plain": [
       "True"
      ]
     },
     "execution_count": 11,
     "metadata": {},
     "output_type": "execute_result"
    }
   ],
   "source": [
    "# This is an example of finding if a specific key exists in a dictionary\n",
    "days_of_the_week = {'Sunday':1, 'Monday':2, 'Tuesday':3, 'Wednesday':4, 'Thursday':5, 'Friday':6, 'Saturday':7}\n",
    "\n",
    "keys = days_of_the_week.keys()\n",
    "'Thursday' in keys"
   ]
  },
  {
   "cell_type": "code",
   "execution_count": 12,
   "metadata": {},
   "outputs": [
    {
     "data": {
      "text/plain": [
       "False"
      ]
     },
     "execution_count": 12,
     "metadata": {},
     "output_type": "execute_result"
    }
   ],
   "source": [
    "# This is another example of finding if a specific item exists in a list\n",
    "'Someday' in days_of_the_week.keys()"
   ]
  },
  {
   "cell_type": "markdown",
   "metadata": {},
   "source": [
    "## Adding items to a Python Dictionary"
   ]
  },
  {
   "cell_type": "markdown",
   "metadata": {},
   "source": [
    "### Adding single items\n",
    "- We can add or modify an item in a Python dictionary by assigning a value to the dictionary's key"
   ]
  },
  {
   "cell_type": "code",
   "execution_count": 13,
   "metadata": {},
   "outputs": [
    {
     "name": "stdout",
     "output_type": "stream",
     "text": [
      "{'January': 1, 'February': 2}\n",
      "{'January': 1, 'February': 2, 'March': 3}\n"
     ]
    }
   ],
   "source": [
    "# This is an example of adding a new item to an existing dictionary\n",
    "months_in_year = {'January':1, 'February':2}\n",
    "print(months_in_year)\n",
    "\n",
    "months_in_year['March'] = 3\n",
    "print(months_in_year)"
   ]
  },
  {
   "cell_type": "code",
   "execution_count": 14,
   "metadata": {},
   "outputs": [
    {
     "name": "stdout",
     "output_type": "stream",
     "text": [
      "{'January': 1, 'February': 2, 'March': 4}\n",
      "{'January': 1, 'February': 2, 'March': 3}\n"
     ]
    }
   ],
   "source": [
    "# This is an example of updating an existing item in a dictionary\n",
    "months_in_year = {'January':1, 'February':2, 'March':4}\n",
    "print(months_in_year)\n",
    "\n",
    "months_in_year['March'] = 3\n",
    "print(months_in_year)"
   ]
  },
  {
   "cell_type": "markdown",
   "metadata": {},
   "source": [
    "### Adding multiple items\n",
    "- We can add multiple ```key:value``` items to a dictionary by using the ```.update()``` function."
   ]
  },
  {
   "cell_type": "code",
   "execution_count": 15,
   "metadata": {},
   "outputs": [
    {
     "name": "stdout",
     "output_type": "stream",
     "text": [
      "{'January': 1, 'February': 2, 'March': 3}\n",
      "{'January': 1, 'February': 2, 'March': 3, 'April': 4, 'May': 5, 'June': 6}\n"
     ]
    }
   ],
   "source": [
    "# This is an example of adding the key:value pairs of one dictionary to another.\n",
    "months_in_year = {'January':1, 'February':2, 'March':3}\n",
    "print(months_in_year)\n",
    "\n",
    "next_3_months = {'April':4, 'May':5, 'June':6}\n",
    "months_in_year.update(next_3_months)\n",
    "print(months_in_year)"
   ]
  },
  {
   "cell_type": "markdown",
   "metadata": {},
   "source": [
    "## Finding the number of items in a dictionary\n",
    "- Similar to lists, to find the number of items in the dictionary, or in other words to find the length of a dictionary we use the ```len()``` function."
   ]
  },
  {
   "cell_type": "code",
   "execution_count": 16,
   "metadata": {},
   "outputs": [
    {
     "name": "stdout",
     "output_type": "stream",
     "text": [
      "Lenght of days_of_the_week dictionary = 7\n"
     ]
    }
   ],
   "source": [
    "# This is an example of finding the length of a list\n",
    "days_of_the_week = {'Sunday':1, 'Monday':2, 'Tuesday':3, 'Wednesday':4, 'Thursday':5, 'Friday':6, 'Saturday':7}\n",
    "\n",
    "print('Lenght of days_of_the_week dictionary =', len(days_of_the_week))"
   ]
  },
  {
   "cell_type": "markdown",
   "metadata": {},
   "source": [
    "## Summary of Python Dictionary\n",
    "- Dictionarys are a collection of related items in a single variable.\n",
    "- Each item in a dictionary is a ```key:value``` pair, separated by comma ```,``` and all the items are enclosed within curly brackets ```{}```.\n",
    "- Create dictionary just like any other variable by assigning ```key:value``` paris within ```{}``` to a variable name using ```=``` symbol.\n",
    "- Use ```key``` within square brackets to access single item in a dictionary.\n",
    "- Use ```.values()``` function to find all values in a dictionary. Convert this to list using ```list()``` function.\n",
    "- Use ```.keys()``` function to find all keys in a dictionary. Convert this to list using ```list()``` function.\n",
    "- Use keyword ```in``` together with ```.keys()``` function to find if a specific key exists in a dictionary.\n",
    "- Use ```key``` within square brackets to add single items to a dictionary.\n",
    "- Use ```.update()``` funtion to add the ```key:value``` pairs of one dictionary to another. \n",
    "- Use ```len()``` function to find the length of a dictionary."
   ]
  },
  {
   "cell_type": "markdown",
   "metadata": {},
   "source": [
    "## Compare and Contrast Python Lists and Dictionaries\n",
    "- List and Dictionaries are very similar to each other and can be confusing at first. Here is a table comparing and contrasting Python Lists to Dictionaries.\n",
    "\n",
    "|                           |               Lists              |          Dictionaries          |\n",
    "|---------------------------|:--------------------------------:|:------------------------------:|\n",
    "| Each item                 |           Single value           |         Key:Value pairs        |\n",
    "| Each item separated       |              Comma ,             |             Comma ,            |\n",
    "| All items enclosed within |        Square brackets [ ]       |       Curly brackets { }       |\n",
    "| Access each item          | Index within square brackets [ ] | Key within square brackets [ ] |\n",
    "| Starting index            |                 0                |                                |\n",
    "| Ending index              |                -1                |                                |\n",
    "| All Keys                  |                                  |            .keys( )            |\n",
    "| All Values                |                                  |           .values( )           |\n",
    "| Access multiple items     |     Slicing operation using :    |                                |\n",
    "| Add single item           |            .append( )            | Key within square brackets [ ] |\n",
    "| Add multiple items        |          + Or .extend( )         |           .update( )           |\n",
    "| Length                    |              len( )              |             len( )             |\n",
    "    \n",
    "\n"
   ]
  },
  {
   "cell_type": "code",
   "execution_count": null,
   "metadata": {},
   "outputs": [],
   "source": []
  }
 ],
 "metadata": {
  "kernelspec": {
   "display_name": "Python 3",
   "language": "python",
   "name": "python3"
  },
  "language_info": {
   "codemirror_mode": {
    "name": "ipython",
    "version": 3
   },
   "file_extension": ".py",
   "mimetype": "text/x-python",
   "name": "python",
   "nbconvert_exporter": "python",
   "pygments_lexer": "ipython3",
   "version": "3.7.7"
  },
  "toc-autonumbering": true,
  "toc-showcode": false,
  "toc-showmarkdowntxt": false,
  "widgets": {
   "application/vnd.jupyter.widget-state+json": {
    "state": {},
    "version_major": 2,
    "version_minor": 0
   }
  }
 },
 "nbformat": 4,
 "nbformat_minor": 4
}
