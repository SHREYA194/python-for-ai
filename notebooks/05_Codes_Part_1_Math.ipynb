{
 "cells": [
  {
   "cell_type": "markdown",
   "metadata": {},
   "source": [
    "# Python Codes - Part 1 [Mathematical Operations]\n",
    "- Python provides all the commonly used mathematical operations:\n",
    "    1. Addition +\n",
    "    2. Subtraction -\n",
    "    3. Multiplication *\n",
    "    4. Division /\n",
    "    5. Power **\n",
    "    6. Quotient //\n",
    "    7. Remainder %"
   ]
  },
  {
   "cell_type": "markdown",
   "metadata": {},
   "source": [
    "## Addition"
   ]
  },
  {
   "cell_type": "code",
   "execution_count": 1,
   "metadata": {},
   "outputs": [
    {
     "name": "stdout",
     "output_type": "stream",
     "text": [
      "5\n"
     ]
    }
   ],
   "source": [
    "# This is an example of adding two numbers in Python\n",
    "print(3+2)"
   ]
  },
  {
   "cell_type": "code",
   "execution_count": 2,
   "metadata": {},
   "outputs": [
    {
     "name": "stdout",
     "output_type": "stream",
     "text": [
      "5\n"
     ]
    }
   ],
   "source": [
    "# This is another example of adding two numbers in Python\n",
    "a = 3\n",
    "b = 2\n",
    "c = a+b\n",
    "print(c)"
   ]
  },
  {
   "cell_type": "code",
   "execution_count": 3,
   "metadata": {},
   "outputs": [
    {
     "name": "stdout",
     "output_type": "stream",
     "text": [
      "20\n"
     ]
    }
   ],
   "source": [
    "# This is an example of adding many numbers in Python\n",
    "a = 3\n",
    "b = 2\n",
    "c = 4\n",
    "d = 1\n",
    "summation = a+b+c+d+10\n",
    "print(summation)"
   ]
  },
  {
   "cell_type": "markdown",
   "metadata": {},
   "source": [
    "## Subtraction"
   ]
  },
  {
   "cell_type": "code",
   "execution_count": 4,
   "metadata": {},
   "outputs": [
    {
     "name": "stdout",
     "output_type": "stream",
     "text": [
      "1\n"
     ]
    }
   ],
   "source": [
    "# This is an example of subracting two numbers in Python\n",
    "print(3-2)"
   ]
  },
  {
   "cell_type": "code",
   "execution_count": 5,
   "metadata": {},
   "outputs": [
    {
     "name": "stdout",
     "output_type": "stream",
     "text": [
      "1\n"
     ]
    }
   ],
   "source": [
    "# This is another example of subtracting two numbers in Python\n",
    "a = 3\n",
    "b = 2\n",
    "c = a-b\n",
    "print(c)"
   ]
  },
  {
   "cell_type": "code",
   "execution_count": 6,
   "metadata": {},
   "outputs": [
    {
     "name": "stdout",
     "output_type": "stream",
     "text": [
      "-14\n"
     ]
    }
   ],
   "source": [
    "# This is an example of subtracting many numbers in Python\n",
    "a = 3\n",
    "b = 2\n",
    "c = 4\n",
    "d = 1\n",
    "difference = a-b-c-d-10\n",
    "print(difference)"
   ]
  },
  {
   "cell_type": "code",
   "execution_count": 7,
   "metadata": {},
   "outputs": [
    {
     "name": "stdout",
     "output_type": "stream",
     "text": [
      "1\n"
     ]
    }
   ],
   "source": [
    "# This is an example of subtracting two numbers using addition\n",
    "a = 3\n",
    "b = -2\n",
    "c = a+b\n",
    "print(c)"
   ]
  },
  {
   "cell_type": "markdown",
   "metadata": {},
   "source": [
    "## Multiplication"
   ]
  },
  {
   "cell_type": "code",
   "execution_count": 8,
   "metadata": {},
   "outputs": [
    {
     "name": "stdout",
     "output_type": "stream",
     "text": [
      "6\n"
     ]
    }
   ],
   "source": [
    "# This is an example of multiplying two numbers in Python\n",
    "print(3*2)"
   ]
  },
  {
   "cell_type": "code",
   "execution_count": 9,
   "metadata": {},
   "outputs": [
    {
     "name": "stdout",
     "output_type": "stream",
     "text": [
      "6\n"
     ]
    }
   ],
   "source": [
    "# This is another example of multiplying two numbers in Python\n",
    "a = 3\n",
    "b = 2\n",
    "c = a*b\n",
    "print(c)"
   ]
  },
  {
   "cell_type": "code",
   "execution_count": 10,
   "metadata": {},
   "outputs": [
    {
     "name": "stdout",
     "output_type": "stream",
     "text": [
      "240\n"
     ]
    }
   ],
   "source": [
    "# This is an example of multiplying many numbers in Python\n",
    "a = 3\n",
    "b = 2\n",
    "c = 4\n",
    "d = 1\n",
    "product = a*b*c*d*10\n",
    "print(product)"
   ]
  },
  {
   "cell_type": "markdown",
   "metadata": {},
   "source": [
    "## Division"
   ]
  },
  {
   "cell_type": "code",
   "execution_count": 11,
   "metadata": {},
   "outputs": [
    {
     "name": "stdout",
     "output_type": "stream",
     "text": [
      "1.5\n"
     ]
    }
   ],
   "source": [
    "# This is an example of dividing two numbers in Python\n",
    "print(3/2)"
   ]
  },
  {
   "cell_type": "code",
   "execution_count": 12,
   "metadata": {},
   "outputs": [
    {
     "name": "stdout",
     "output_type": "stream",
     "text": [
      "1.5\n"
     ]
    }
   ],
   "source": [
    "# This is another example of dividing two numbers in Python\n",
    "a = 3\n",
    "b = 2\n",
    "c = a/b\n",
    "print(c)"
   ]
  },
  {
   "cell_type": "code",
   "execution_count": 13,
   "metadata": {},
   "outputs": [
    {
     "name": "stdout",
     "output_type": "stream",
     "text": [
      "0.0375\n"
     ]
    }
   ],
   "source": [
    "# This is an example of dividing many numbers in Python\n",
    "a = 3\n",
    "b = 2\n",
    "c = 4\n",
    "d = 1\n",
    "division = a/b/c/d/10\n",
    "print(division)"
   ]
  },
  {
   "cell_type": "markdown",
   "metadata": {},
   "source": [
    "## Power"
   ]
  },
  {
   "cell_type": "code",
   "execution_count": 14,
   "metadata": {},
   "outputs": [
    {
     "name": "stdout",
     "output_type": "stream",
     "text": [
      "9\n"
     ]
    }
   ],
   "source": [
    "# This is an example of calculating the square of a number in Python\n",
    "print(3**2)"
   ]
  },
  {
   "cell_type": "code",
   "execution_count": 15,
   "metadata": {},
   "outputs": [
    {
     "name": "stdout",
     "output_type": "stream",
     "text": [
      "1000\n"
     ]
    }
   ],
   "source": [
    "# This is an example of calculating a power of a number in Python\n",
    "a = 10\n",
    "b = 3\n",
    "c = a**b\n",
    "print(c)"
   ]
  },
  {
   "cell_type": "code",
   "execution_count": 16,
   "metadata": {},
   "outputs": [
    {
     "name": "stdout",
     "output_type": "stream",
     "text": [
      "2.0\n"
     ]
    }
   ],
   "source": [
    "# This is an example of calculating the square root of a number in Python. Recall that Square Root is to the power of 0.5\n",
    "print(4**0.5)"
   ]
  },
  {
   "cell_type": "code",
   "execution_count": 17,
   "metadata": {},
   "outputs": [
    {
     "name": "stdout",
     "output_type": "stream",
     "text": [
      "1000000000\n",
      "1000000000\n",
      "1000000\n"
     ]
    }
   ],
   "source": [
    "# Be careful while calculating the power of a power. Include simple brackets to indicate which power should be evaluated first\n",
    "a = 10**3**2\n",
    "print(a)\n",
    "\n",
    "b = 10**(3**2)\n",
    "print(b)\n",
    "\n",
    "c = (10**3)**2\n",
    "print(c)"
   ]
  },
  {
   "cell_type": "markdown",
   "metadata": {},
   "source": [
    "## Quotient"
   ]
  },
  {
   "cell_type": "code",
   "execution_count": 18,
   "metadata": {},
   "outputs": [
    {
     "name": "stdout",
     "output_type": "stream",
     "text": [
      "1\n"
     ]
    }
   ],
   "source": [
    "# This is an example of dividing two numbers in Python and getting only the Quotient\n",
    "print(5//3)"
   ]
  },
  {
   "cell_type": "code",
   "execution_count": 19,
   "metadata": {},
   "outputs": [
    {
     "name": "stdout",
     "output_type": "stream",
     "text": [
      "1\n"
     ]
    }
   ],
   "source": [
    "# This is another example of dividing two numbers in Python and getting only the Quotient\n",
    "a = 5\n",
    "b = 3\n",
    "c = a//b\n",
    "print(c)"
   ]
  },
  {
   "cell_type": "code",
   "execution_count": 20,
   "metadata": {},
   "outputs": [
    {
     "name": "stdout",
     "output_type": "stream",
     "text": [
      "3\n"
     ]
    }
   ],
   "source": [
    "# This is an example of dividing many numbers in Python and getting only the Quotient\n",
    "a = 30\n",
    "b = 2\n",
    "c = 4\n",
    "d = 1\n",
    "quotient = a//b//c//d\n",
    "print(quotient)"
   ]
  },
  {
   "cell_type": "markdown",
   "metadata": {},
   "source": [
    "## Remainder"
   ]
  },
  {
   "cell_type": "code",
   "execution_count": 21,
   "metadata": {},
   "outputs": [
    {
     "name": "stdout",
     "output_type": "stream",
     "text": [
      "2\n"
     ]
    }
   ],
   "source": [
    "# This is an example of dividing two numbers in Python and getting only the Remainder\n",
    "print(5%3)"
   ]
  },
  {
   "cell_type": "code",
   "execution_count": 22,
   "metadata": {},
   "outputs": [
    {
     "name": "stdout",
     "output_type": "stream",
     "text": [
      "2\n"
     ]
    }
   ],
   "source": [
    "# This is another example of dividing two numbers in Python and getting only the Remainder\n",
    "a = 5\n",
    "b = 3\n",
    "c = a%b\n",
    "print(c)"
   ]
  },
  {
   "cell_type": "code",
   "execution_count": 23,
   "metadata": {},
   "outputs": [
    {
     "name": "stdout",
     "output_type": "stream",
     "text": [
      "1\n"
     ]
    }
   ],
   "source": [
    "# This is an example of dividing many numbers in Python and getting only the Remainder\n",
    "a = 15\n",
    "b = 8\n",
    "c = 3\n",
    "remainder = a%b%c\n",
    "print(remainder)"
   ]
  },
  {
   "cell_type": "markdown",
   "metadata": {},
   "source": [
    "## Order of Operations\n",
    "- Python follows the well known [BODMAS](https://en.wikipedia.org/wiki/Order_of_operations) order of mathematical operations.\n",
    "- BODMAS is an acronym to remember the order in which mathematical operations are evaluated.\n",
    "    1. B - Brackets are evaluated first. \n",
    "    2. O - Order or Power is evaluated second.\n",
    "    3. DM - Division and Multiplication are evaluated third. If both appear side by side, the evaluation happens from left to right\n",
    "    4. AS - Addition and Subtraction are evaluated last. If both appear side by side, the evaluation happens from left to right\n",
    "- In general, it's recommended to add brackets ```()``` around any operation that you want to control since brackets are evaluated first."
   ]
  },
  {
   "cell_type": "code",
   "execution_count": 24,
   "metadata": {},
   "outputs": [
    {
     "name": "stdout",
     "output_type": "stream",
     "text": [
      "5\n"
     ]
    }
   ],
   "source": [
    "# This is an example of chaining multiple operations in Python\n",
    "complex_operation = 4 + 3 * 2 - 5 \n",
    "print(complex_operation)"
   ]
  },
  {
   "cell_type": "code",
   "execution_count": 25,
   "metadata": {},
   "outputs": [
    {
     "name": "stdout",
     "output_type": "stream",
     "text": [
      "9\n"
     ]
    }
   ],
   "source": [
    "complex_operation = ((4 + 3) * 2) - 5\n",
    "print(complex_operation)"
   ]
  },
  {
   "cell_type": "code",
   "execution_count": null,
   "metadata": {},
   "outputs": [],
   "source": []
  }
 ],
 "metadata": {
  "kernelspec": {
   "display_name": "Python 3",
   "language": "python",
   "name": "python3"
  },
  "language_info": {
   "codemirror_mode": {
    "name": "ipython",
    "version": 3
   },
   "file_extension": ".py",
   "mimetype": "text/x-python",
   "name": "python",
   "nbconvert_exporter": "python",
   "pygments_lexer": "ipython3",
   "version": "3.7.7"
  },
  "widgets": {
   "application/vnd.jupyter.widget-state+json": {
    "state": {},
    "version_major": 2,
    "version_minor": 0
   }
  }
 },
 "nbformat": 4,
 "nbformat_minor": 4
}
