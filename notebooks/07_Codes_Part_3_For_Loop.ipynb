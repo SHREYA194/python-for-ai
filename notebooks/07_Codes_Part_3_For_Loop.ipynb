{
 "cells": [
  {
   "cell_type": "markdown",
   "metadata": {},
   "source": [
    "# Python Codes - Part 3 [Loops]\n",
    "- Python loops are used to execute a block of code multiple times.\n",
    "- Loops are typically the first major challenge that newcomers to programming spend a lot of time trying to understand."
   ]
  },
  {
   "cell_type": "code",
   "execution_count": 1,
   "metadata": {},
   "outputs": [
    {
     "name": "stdout",
     "output_type": "stream",
     "text": [
      "[1, 2, 3, 4, 5, 6, 7, 8, 9, 10]\n"
     ]
    }
   ],
   "source": [
    "# This is an example of a list in Python\n",
    "count_to_ten = [1, 2, 3, 4, 5, 6, 7, 8, 9, 10]\n",
    "print(count_to_ten)"
   ]
  },
  {
   "cell_type": "code",
   "execution_count": 2,
   "metadata": {},
   "outputs": [
    {
     "name": "stdout",
     "output_type": "stream",
     "text": [
      "10\n"
     ]
    }
   ],
   "source": [
    "# This is the length of the list count_to_ten, which is the number of items in that list\n",
    "length = len(count_to_ten)\n",
    "print(length)"
   ]
  },
  {
   "cell_type": "code",
   "execution_count": 3,
   "metadata": {},
   "outputs": [
    {
     "name": "stdout",
     "output_type": "stream",
     "text": [
      "1\n",
      "2\n",
      "3\n",
      "4\n",
      "5\n",
      "6\n",
      "7\n",
      "8\n",
      "9\n",
      "10\n"
     ]
    }
   ],
   "source": [
    "# This is an example of manually looping over each item in the list\n",
    "print(count_to_ten[0])\n",
    "print(count_to_ten[1])\n",
    "print(count_to_ten[2])\n",
    "print(count_to_ten[3])\n",
    "print(count_to_ten[4])\n",
    "print(count_to_ten[5])\n",
    "print(count_to_ten[6])\n",
    "print(count_to_ten[7])\n",
    "print(count_to_ten[8])\n",
    "print(count_to_ten[9])"
   ]
  },
  {
   "cell_type": "markdown",
   "metadata": {},
   "source": [
    "## While Loop\n",
    "- The syntax of ```while``` loop is similar to ```if``` statement\n",
    "\n",
    "```\n",
    "while <condition> :\n",
    "    <codes if condition is True>\n",
    "````\n",
    "\n",
    "- The codes within a ```while``` block needs to be indented with 4 spaces. In Jupyter, code is automatically indented when you type a ```while``` loop. We can also press ```Tab``` instead of manually typing 4 spaces each time we want to indent some code."
   ]
  },
  {
   "cell_type": "code",
   "execution_count": 4,
   "metadata": {},
   "outputs": [
    {
     "name": "stdout",
     "output_type": "stream",
     "text": [
      "1\n",
      "2\n",
      "3\n",
      "4\n",
      "5\n",
      "6\n",
      "7\n",
      "8\n",
      "9\n",
      "10\n",
      "While loop ended!\n"
     ]
    }
   ],
   "source": [
    "count_to_ten = [1, 2, 3, 4, 5, 6, 7, 8, 9, 10]\n",
    "length = len(count_to_ten)\n",
    "\n",
    "number = 0\n",
    "while number < length:\n",
    "    print(count_to_ten[number])\n",
    "    number = number + 1\n",
    "    \n",
    "print('While loop ended!')"
   ]
  },
  {
   "cell_type": "markdown",
   "metadata": {},
   "source": [
    "- While loop execution flowchart\n",
    "\n",
    "<img src=\"images/07/while_loop.png\" />"
   ]
  },
  {
   "cell_type": "markdown",
   "metadata": {},
   "source": [
    "## For Loop\n",
    "- The syntax of ```for``` loop is a little bit different\n",
    "\n",
    "```\n",
    "for <temporary variable> in <list> :\n",
    "    <codes to execute for len(list) times>\n",
    "````\n",
    "\n",
    "- The codes within a ```for``` block needs to be indented with 4 spaces. In Jupyter, code is automatically indented when you type a ```for``` loop. We can also press ```Tab``` instead of manually typing 4 spaces each time we want to indent some code."
   ]
  },
  {
   "cell_type": "code",
   "execution_count": 5,
   "metadata": {},
   "outputs": [
    {
     "name": "stdout",
     "output_type": "stream",
     "text": [
      "1\n",
      "2\n",
      "3\n",
      "4\n",
      "5\n",
      "6\n",
      "7\n",
      "8\n",
      "9\n",
      "10\n",
      "For loop ended!\n"
     ]
    }
   ],
   "source": [
    "count_to_ten = [1, 2, 3, 4, 5, 6, 7, 8, 9, 10]\n",
    "\n",
    "for number in count_to_ten:\n",
    "    print(number)\n",
    "    \n",
    "print('For loop ended!')"
   ]
  },
  {
   "cell_type": "markdown",
   "metadata": {},
   "source": [
    "- For loop execution flowchart. Boxes in green are lines of code typed by us while boxes in grey are the internal workings of the for loop. Variables starting with ```_``` are internal to the for loop as well.\n",
    "\n",
    "<img src=\"images/07/for_loop.png\" />"
   ]
  },
  {
   "cell_type": "markdown",
   "metadata": {},
   "source": [
    "## Nesting Loops\n",
    "- If you have multiple lists to loop over at the same time, you could easily do so by placing one loop within another. This is known as nested loops.\n",
    "- Notice that each nested loop needs to have an additional $4$ spaces indentation compared to the loop before it."
   ]
  },
  {
   "cell_type": "code",
   "execution_count": 6,
   "metadata": {},
   "outputs": [
    {
     "name": "stdout",
     "output_type": "stream",
     "text": [
      "1 ** 2 = 1\n",
      "1 ** 3 = 1\n",
      "2 ** 2 = 4\n",
      "2 ** 3 = 8\n",
      "3 ** 2 = 9\n",
      "3 ** 3 = 27\n",
      "4 ** 2 = 16\n",
      "4 ** 3 = 64\n",
      "5 ** 2 = 25\n",
      "5 ** 3 = 125\n"
     ]
    }
   ],
   "source": [
    "# This is an example of two nested for loops\n",
    "count_to_five = [1, 2, 3, 4, 5]\n",
    "powers = [2, 3]\n",
    "\n",
    "for number in count_to_five:\n",
    "    for power_value in powers:\n",
    "        number_powered = number**power_value\n",
    "        print(number, '**', power_value, '=', number_powered)"
   ]
  },
  {
   "cell_type": "markdown",
   "metadata": {},
   "source": [
    "## Control Statements\n",
    "There are three control statements we can use to modify the behavior of our loop. The control statements normally come within an ```if``` condition.\n",
    "1. ```break``` Stops executing the loop at any point before it reaches its natural end.\n",
    "2. ```continue``` Stops executing only the current iteration of the loop and jumps to the net iteration\n",
    "3. ```pass``` Does nothing and used rarely"
   ]
  },
  {
   "cell_type": "code",
   "execution_count": 7,
   "metadata": {},
   "outputs": [
    {
     "name": "stdout",
     "output_type": "stream",
     "text": [
      "1\n"
     ]
    }
   ],
   "source": [
    "# This is an example of a break statement\n",
    "count_to_ten = [1, 2, 3, 4, 5, 6, 7, 8, 9, 10]\n",
    "\n",
    "for number in count_to_ten:\n",
    "    if number % 2 == 0:\n",
    "        break\n",
    "        \n",
    "    print(number)"
   ]
  },
  {
   "cell_type": "code",
   "execution_count": 8,
   "metadata": {},
   "outputs": [
    {
     "name": "stdout",
     "output_type": "stream",
     "text": [
      "1\n",
      "3\n",
      "5\n",
      "7\n",
      "9\n"
     ]
    }
   ],
   "source": [
    "# This is an example of a continue statement\n",
    "count_to_ten = [1, 2, 3, 4, 5, 6, 7, 8, 9, 10]\n",
    "\n",
    "for number in count_to_ten:\n",
    "    if number % 2 == 0:\n",
    "        continue\n",
    "    \n",
    "    print(number)"
   ]
  },
  {
   "cell_type": "code",
   "execution_count": 9,
   "metadata": {},
   "outputs": [
    {
     "name": "stdout",
     "output_type": "stream",
     "text": [
      "1\n",
      "2\n",
      "3\n",
      "4\n",
      "5\n",
      "6\n",
      "7\n",
      "8\n",
      "9\n",
      "10\n"
     ]
    }
   ],
   "source": [
    "# This is an example of a pass statement\n",
    "count_to_ten = [1, 2, 3, 4, 5, 6, 7, 8, 9, 10]\n",
    "\n",
    "for number in count_to_ten:\n",
    "    if number % 2 == 0:\n",
    "        pass\n",
    "    \n",
    "    print(number)"
   ]
  },
  {
   "cell_type": "markdown",
   "metadata": {},
   "source": [
    "## Summary of Loops\n",
    "- Loops are used to execute a block of code multiple times.\n",
    "- Two types of Python loops\n",
    "    1. ```While``` - Very similar to ```if``` statement. All the looping code is written by the programmer.\n",
    "    2. ```If``` - All the looping code happens internally and need not be written by the programmer.\n",
    "- Loops can be nested within one another.\n",
    "- Three types of control statements to modify the behavior or the loop\n",
    "    1. ```break```\n",
    "    2. ```continue```\n",
    "    3. ```pass```"
   ]
  },
  {
   "cell_type": "code",
   "execution_count": null,
   "metadata": {},
   "outputs": [],
   "source": []
  }
 ],
 "metadata": {
  "kernelspec": {
   "display_name": "Python 3.7 (XPython)",
   "language": "python",
   "name": "xpython"
  },
  "language_info": {
   "file_extension": ".py",
   "mimetype": "text/x-python",
   "name": "python",
   "version": "3.7.6"
  },
  "toc-autonumbering": true,
  "widgets": {
   "application/vnd.jupyter.widget-state+json": {
    "state": {},
    "version_major": 2,
    "version_minor": 0
   }
  }
 },
 "nbformat": 4,
 "nbformat_minor": 4
}
