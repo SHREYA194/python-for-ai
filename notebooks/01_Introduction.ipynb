{
 "cells": [
  {
   "cell_type": "markdown",
   "metadata": {},
   "source": [
    "# Python for Artificial Intelligence"
   ]
  },
  {
   "cell_type": "markdown",
   "metadata": {},
   "source": [
    "## Installing Anaconda Python\n",
    "\n",
    "- Download Anaconda Python 3.7 for your computer's operating system from [Anaconda Website](https://www.anaconda.com/products/individual) and install normally.\n",
    "\n",
    "<img src=\"images/01/anaconda_install.png\" />"
   ]
  },
  {
   "cell_type": "markdown",
   "metadata": {},
   "source": [
    "## Jupyter\n",
    "\n",
    "- Jupyter is a browser interface that allows us to type and execute Python codes.\n",
    "\n",
    "<img src=\"images/01/jupyter.png\" />"
   ]
  },
  {
   "cell_type": "markdown",
   "metadata": {},
   "source": [
    "### Opening a Jupyter Lab Interface\n",
    "\n",
    "- We shall use the newer Jupyter lab interface. The open Jupyter lab on your computer:\n",
    "    1. Confirm you have installed Anaconda Python from the previous step\n",
    "    2. On Windows: Open \"Anaconda Prompt\" from your start menu. On Mac or Linux: Open your \"Terminal\"\n",
    "    3. Type the following command into the \"Anaconda Prompt\" or \"Terminal\" window exactly as shown below <br>\n",
    "        ```jupyter lab```\n",
    "    4. If everything works correctly, a new tab will open up in your browser window that looks something like this:\n",
    "\n",
    "<img src=\"images/01/jupyter_welcome.png\" />"
   ]
  },
  {
   "cell_type": "markdown",
   "metadata": {},
   "source": [
    "### Familiarizing with Jupyter Lab Interface\n",
    "\n",
    "Let us familiarize ourselves with the Jupyter Lab Interface\n",
    "\n",
    "1. File Browser\n",
    "    - The first component to check out is the \"File Browser\" which can be accessed by clicking on the small icon that looks like a folder on the left hand side. <br>\n",
    "    <img src=\"images/01/jupyter_filebrowser.png\" />\n",
    "    - The file browser allows you to view all the files and folders on your computer.\n",
    "    - Use the file browser to navigate to a suitable location where you want to create your Python files\n",
    "    - I recommend to create the following folder structure for this project to keep everything well organized. You can right click on an empty space in the File Browser to create a new folder. We shall create a new folder called \"python-for-ai\" to store all the material related to this course. Inside this folder, we shall crete three folders called \"data\", \"models\" and \"notebooks\". All our Jupyter notebooks will be saved into the \"notebooks\" folder. You will automatically get this folder structure if you download the course material from our [GitHub page](https://github.com/agni-data/python-for-ai). <br>\n",
    "    <img src=\"images/01/jupyter_recommendedlayout.png\" />\n",
    "    - Once the folders are created, open the \"notebook\" folder.\n",
    "<br><br>    \n",
    "2. Launcher\n",
    "    - Launcher is the window to the right of the File Browser.\n",
    "    - We use the Launcher to create a new Python3 Jupyter notebook to open up the Notebook window. <br>\n",
    "    <img src=\"images/01/jupyter_launcher.png\" />\n",
    "<br><br>\n",
    "3. Notebook\n",
    "    - Notebook is the interface to actually type and execute your Python codes.\n",
    "    - The following image shows the meaning of all the components of the Jupyter notebook interface. You can also see the definition of each button by howering your mouse over the button.\n",
    "    <img src=\"images/01/jupyter_notebook.png\" />\n",
    "    - Python codes are typed into the \"Cell\" and executed by either clicking on the \"Run Cell\" button, or by pressing the keyboard shortcut ```Shift``` + ```Enter```.\n",
    "    - After execution of each \"Cell\", if there is any output, it will be displayed immediately below that Cell itself and hence you can confirm if your code is working as expected.\n",
    "    - You can add as many Cells as you need and execute them to complete your entire Python program."
   ]
  },
  {
   "cell_type": "markdown",
   "metadata": {},
   "source": [
    "## Comments\n",
    "- Comments are lines of code that are skipped by the Python program.\n",
    "- Comments are used to type in plain English some messages to future readers of your program. For example, you could explain what a specific block of code is doing so that the reader need not read the whole block of code to understand it.\n",
    "- A comment in Python is any line that starts with an ```#```"
   ]
  },
  {
   "cell_type": "code",
   "execution_count": 1,
   "metadata": {},
   "outputs": [],
   "source": [
    "# This is an example of a Python comment as it begins with #"
   ]
  },
  {
   "cell_type": "code",
   "execution_count": 2,
   "metadata": {},
   "outputs": [],
   "source": [
    "# Nothing happens when a Python comment is executed"
   ]
  },
  {
   "cell_type": "markdown",
   "metadata": {},
   "source": [
    "## Printing - Basics\n",
    "- Sometimes we would want to display some information during the execution of our Python code.\n",
    "- For example, we might want to add two numbers and display its results.\n",
    "- To achieve this we use the Python ```print()``` function."
   ]
  },
  {
   "cell_type": "code",
   "execution_count": 3,
   "metadata": {},
   "outputs": [
    {
     "name": "stdout",
     "output_type": "stream",
     "text": [
      "Hello World!\n"
     ]
    }
   ],
   "source": [
    "# This is an example of printing something in Python.\n",
    "# Take note that text needs to be enclosed within quotes.\n",
    "print('Hello World!')"
   ]
  },
  {
   "cell_type": "code",
   "execution_count": 4,
   "metadata": {},
   "outputs": [
    {
     "name": "stdout",
     "output_type": "stream",
     "text": [
      "5\n"
     ]
    }
   ],
   "source": [
    "# This is an example of printing the sum of two numbers in Python\n",
    "print(3+2)"
   ]
  },
  {
   "cell_type": "code",
   "execution_count": 5,
   "metadata": {},
   "outputs": [
    {
     "name": "stdout",
     "output_type": "stream",
     "text": [
      "The value of 3+2 = 5\n"
     ]
    }
   ],
   "source": [
    "# This is an example of printing both the text and the sum of two numbers in Python.\n",
    "# Each value to print is separated by a comma. \n",
    "# Here there are two values to print, the text 'the value of 3+2 =' and the actual summation of 3+2\n",
    "print('The value of 3+2 =', 3+2)"
   ]
  },
  {
   "cell_type": "code",
   "execution_count": null,
   "metadata": {},
   "outputs": [],
   "source": []
  }
 ],
 "metadata": {
  "kernelspec": {
   "display_name": "Python 3",
   "language": "python",
   "name": "python3"
  },
  "language_info": {
   "codemirror_mode": {
    "name": "ipython",
    "version": 3
   },
   "file_extension": ".py",
   "mimetype": "text/x-python",
   "name": "python",
   "nbconvert_exporter": "python",
   "pygments_lexer": "ipython3",
   "version": "3.7.7"
  },
  "toc-autonumbering": true,
  "toc-showcode": false,
  "toc-showmarkdowntxt": true,
  "toc-showtags": false,
  "widgets": {
   "application/vnd.jupyter.widget-state+json": {
    "state": {},
    "version_major": 2,
    "version_minor": 0
   }
  }
 },
 "nbformat": 4,
 "nbformat_minor": 4
}
