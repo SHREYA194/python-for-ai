{
 "cells": [
  {
   "cell_type": "markdown",
   "metadata": {},
   "source": [
    "# Python Codes - Part 5 [Classes]\n",
    "- Some functions and variables that perform similar tasks can be grouped together into a \"class\" as shown in the picture below.\n",
    "- A \"class\" is like a template that we can use to create many similar \"objects\"\n",
    "\n",
    "<img src=\"images/09/class.png\" />"
   ]
  },
  {
   "cell_type": "markdown",
   "metadata": {},
   "source": [
    "## Class Definition\n",
    "- The syntax for defining our own class is\n",
    "\n",
    "```\n",
    "class <class name>:\n",
    "    <codes or functions that belong to the class>\n",
    "```\n",
    "\n",
    "- The codes within a class definition needs to be indented with 4 spaces. In Jupyter, code is automatically indented when you define your class. We can also press Tab instead of manually typing 4 spaces each time we want to indent some code."
   ]
  },
  {
   "cell_type": "code",
   "execution_count": 1,
   "metadata": {},
   "outputs": [],
   "source": [
    "# This is an example of creating your own class and initializing some variable in that class to a value\n",
    "class MyClass:\n",
    "    def __init__(self, my_value=5):\n",
    "        self.my_value = my_value"
   ]
  },
  {
   "cell_type": "code",
   "execution_count": 2,
   "metadata": {},
   "outputs": [
    {
     "name": "stdout",
     "output_type": "stream",
     "text": [
      "5\n"
     ]
    }
   ],
   "source": [
    "# Creating an object of MyClass using the default argument from __init__ function\n",
    "a = MyClass()\n",
    "print(a.my_value)"
   ]
  },
  {
   "cell_type": "code",
   "execution_count": 3,
   "metadata": {},
   "outputs": [
    {
     "name": "stdout",
     "output_type": "stream",
     "text": [
      "20\n"
     ]
    }
   ],
   "source": [
    "# Creating an object of MyClass by passing an argument to __init__ function\n",
    "b = MyClass(20)\n",
    "print(b.my_value)"
   ]
  },
  {
   "cell_type": "markdown",
   "metadata": {},
   "source": [
    "## Objects\n",
    "\n",
    "- Each Class \"template\" can have multiple objects as shown in the image below.\n",
    "- The variables in each object are only accessible from within that object itself and are called the \"attributes\" of that object. Eg: ```b.my_value``` is an attribute of object ```b```.\n",
    "- The ```__init__``` function automatically runs when we create an object of the class by typing for example ```a = MyClass()```\n",
    "\n",
    "<img src=\"images/09/class_objects.png\" />"
   ]
  },
  {
   "cell_type": "markdown",
   "metadata": {},
   "source": [
    "## Example Class\n",
    "- Let us define a class to calculate the areas of various 2D shapes"
   ]
  },
  {
   "cell_type": "code",
   "execution_count": 4,
   "metadata": {},
   "outputs": [],
   "source": [
    "# This is an example of creating your own class\n",
    "\n",
    "class Area:\n",
    "    # A class to calculate the area of common geometrical shapes\n",
    "    def __init__(self):\n",
    "        self.pi = 3.14\n",
    "        self.area = 0\n",
    "    \n",
    "    def square(self, a):\n",
    "        self.area = a**2\n",
    "        self.print_area()\n",
    "        \n",
    "    def rectangle(self, b, h):\n",
    "        self.area = b*h\n",
    "        self.print_area()\n",
    "        \n",
    "    def parallelogram(self, b, h):\n",
    "        self.area = b*h\n",
    "        self.print_area()\n",
    "        \n",
    "    def rhombus(self, p, q):\n",
    "        self.area = p*q/2\n",
    "        self.print_area()\n",
    "\n",
    "    def trapezoid(self, a, b, h):\n",
    "        self.area = (a+b)*h/2\n",
    "        self.print_area()\n",
    "        \n",
    "    def circle(self, r):\n",
    "        self.area = self.pi*(r**2)\n",
    "        self.print_area()\n",
    "        \n",
    "    def ellipse(self, a, b):\n",
    "        self.area = self.pi*a*b\n",
    "        self.print_area()\n",
    "        \n",
    "    def triangle(self, b, h):\n",
    "        self.area = b*h/2\n",
    "        self.print_area()\n",
    "        \n",
    "    def print_area(self):\n",
    "        print('Area = ', self.area)"
   ]
  },
  {
   "cell_type": "code",
   "execution_count": 5,
   "metadata": {},
   "outputs": [
    {
     "name": "stdout",
     "output_type": "stream",
     "text": [
      "Area =  4\n",
      "4\n"
     ]
    }
   ],
   "source": [
    "# Create an object of Area class\n",
    "my_area_square = Area()\n",
    "my_area_square.square(2)\n",
    "print(my_area_square.area)"
   ]
  },
  {
   "cell_type": "code",
   "execution_count": 6,
   "metadata": {},
   "outputs": [
    {
     "name": "stdout",
     "output_type": "stream",
     "text": [
      "0\n",
      "Area =  12.56\n"
     ]
    }
   ],
   "source": [
    "# Create another object of Area class\n",
    "my_area_circle = Area()\n",
    "print(my_area_circle.area)\n",
    "\n",
    "my_area_circle.circle(2)"
   ]
  },
  {
   "cell_type": "markdown",
   "metadata": {},
   "source": [
    "## Summary of Python Classes\n",
    "- Some functions and variables that perform similar tasks can be grouped together into a \"class\".\n",
    "- A \"class\" is like a template that we can use to create many similar \"objects\".\n",
    "- ```__init__()``` function runs automatically when an object is created.\n",
    "- We can get many Classes by installing packages from the internet to build AI systems."
   ]
  },
  {
   "cell_type": "code",
   "execution_count": null,
   "metadata": {},
   "outputs": [],
   "source": []
  }
 ],
 "metadata": {
  "kernelspec": {
   "display_name": "Python 3",
   "language": "python",
   "name": "python3"
  },
  "language_info": {
   "codemirror_mode": {
    "name": "ipython",
    "version": 3
   },
   "file_extension": ".py",
   "mimetype": "text/x-python",
   "name": "python",
   "nbconvert_exporter": "python",
   "pygments_lexer": "ipython3",
   "version": "3.8.5"
  },
  "widgets": {
   "application/vnd.jupyter.widget-state+json": {
    "state": {},
    "version_major": 2,
    "version_minor": 0
   }
  }
 },
 "nbformat": 4,
 "nbformat_minor": 4
}
