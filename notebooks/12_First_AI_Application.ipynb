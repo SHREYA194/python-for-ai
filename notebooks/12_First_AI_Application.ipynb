{
 "cells": [
  {
   "cell_type": "markdown",
   "metadata": {},
   "source": [
    "# First AI application using Transfer Learning in 6 Steps!\n",
    "\n",
    "<img src='images/12/ai_6steps.png'>"
   ]
  },
  {
   "cell_type": "markdown",
   "metadata": {},
   "source": [
    "## Download the dataset \n",
    "- Download the cats vs dogs dataset from this link and unzip the file: https://storage.googleapis.com/mledu-datasets/cats_and_dogs_filtered.zip"
   ]
  },
  {
   "cell_type": "markdown",
   "metadata": {},
   "source": [
    "## Load the downloaded dataset into Python"
   ]
  },
  {
   "cell_type": "code",
   "execution_count": 1,
   "metadata": {},
   "outputs": [],
   "source": [
    "# Import the necessary packages\n",
    "from tensorflow.keras.preprocessing.image import ImageDataGenerator\n",
    "import os"
   ]
  },
  {
   "cell_type": "code",
   "execution_count": 2,
   "metadata": {},
   "outputs": [
    {
     "name": "stdout",
     "output_type": "stream",
     "text": [
      "Found 2000 images belonging to 2 classes.\n",
      "Found 1000 images belonging to 2 classes.\n"
     ]
    }
   ],
   "source": [
    "# Data from Train folder\n",
    "train_data_location = os.path.join('..','data', 'cats_and_dogs_filtered', 'train')\n",
    "train_data = ImageDataGenerator().flow_from_directory(train_data_location)\n",
    "\n",
    "# Data from Validation folder\n",
    "validation_data_location = os.path.join('..','data', 'cats_and_dogs_filtered', 'validation')\n",
    "validation_data = ImageDataGenerator().flow_from_directory(validation_data_location)"
   ]
  },
  {
   "cell_type": "code",
   "execution_count": 3,
   "metadata": {},
   "outputs": [
    {
     "name": "stdout",
     "output_type": "stream",
     "text": [
      "The animal mappings are {'cats': 0, 'dogs': 1}\n"
     ]
    }
   ],
   "source": [
    "# Check the output mappings\n",
    "animal_mappings = train_data.class_indices\n",
    "print(f'The animal mappings are {animal_mappings}')"
   ]
  },
  {
   "cell_type": "markdown",
   "metadata": {},
   "source": [
    "## Download the pre-trained model"
   ]
  },
  {
   "cell_type": "code",
   "execution_count": 4,
   "metadata": {},
   "outputs": [],
   "source": [
    "# Import the necessary package\n",
    "from tensorflow.keras.applications import ResNet50"
   ]
  },
  {
   "cell_type": "code",
   "execution_count": 5,
   "metadata": {},
   "outputs": [],
   "source": [
    "# Import the desired pre-trained model\n",
    "# List of pre-trained models: https://www.tensorflow.org/api_docs/python/tf/keras/applications\n",
    "pre_trained_model = ResNet50(include_top=False)"
   ]
  },
  {
   "cell_type": "code",
   "execution_count": 6,
   "metadata": {},
   "outputs": [],
   "source": [
    "# Freeze the model so we don't accidentally change the pre-trained model\n",
    "pre_trained_model.trainable = False"
   ]
  },
  {
   "cell_type": "markdown",
   "metadata": {},
   "source": [
    "## Modify the pre-trained model to suit our dataset"
   ]
  },
  {
   "cell_type": "code",
   "execution_count": 7,
   "metadata": {},
   "outputs": [],
   "source": [
    "# Import the necessary packages\n",
    "from tensorflow.keras import Sequential\n",
    "from tensorflow.keras.layers import GlobalAveragePooling2D, Dropout, Dense"
   ]
  },
  {
   "cell_type": "code",
   "execution_count": 8,
   "metadata": {},
   "outputs": [],
   "source": [
    "# To create a model for our needs, first create a blank model\n",
    "model = Sequential()\n",
    "\n",
    "# Then add the pre-trained model to use Transfer Learning\n",
    "model.add(pre_trained_model)\n",
    "\n",
    "# Finally add our custom modifications\n",
    "model.add(GlobalAveragePooling2D())\n",
    "model.add(Dense(len(animal_mappings), activation='softmax'))"
   ]
  },
  {
   "cell_type": "code",
   "execution_count": 9,
   "metadata": {},
   "outputs": [],
   "source": [
    "# Make the model ready for training\n",
    "model.compile(loss='categorical_crossentropy', metrics=['accuracy'])"
   ]
  },
  {
   "cell_type": "code",
   "execution_count": 10,
   "metadata": {},
   "outputs": [
    {
     "name": "stdout",
     "output_type": "stream",
     "text": [
      "Model: \"sequential\"\n",
      "_________________________________________________________________\n",
      "Layer (type)                 Output Shape              Param #   \n",
      "=================================================================\n",
      "resnet50 (Functional)        (None, None, None, 2048)  23587712  \n",
      "_________________________________________________________________\n",
      "global_average_pooling2d (Gl (None, 2048)              0         \n",
      "_________________________________________________________________\n",
      "dense (Dense)                (None, 2)                 4098      \n",
      "=================================================================\n",
      "Total params: 23,591,810\n",
      "Trainable params: 4,098\n",
      "Non-trainable params: 23,587,712\n",
      "_________________________________________________________________\n"
     ]
    }
   ],
   "source": [
    "# If you want to check the model's architecture\n",
    "model.summary()"
   ]
  },
  {
   "cell_type": "markdown",
   "metadata": {},
   "source": [
    "## Training the model on your dataset"
   ]
  },
  {
   "cell_type": "code",
   "execution_count": 11,
   "metadata": {
    "scrolled": true
   },
   "outputs": [
    {
     "name": "stdout",
     "output_type": "stream",
     "text": [
      "Epoch 1/15\n",
      "63/63 [==============================] - 326s 5s/step - loss: 0.2399 - accuracy: 0.9085 - val_loss: 0.0956 - val_accuracy: 0.9720\n",
      "Epoch 2/15\n",
      "63/63 [==============================] - 326s 5s/step - loss: 0.0623 - accuracy: 0.9785 - val_loss: 0.0724 - val_accuracy: 0.9750\n",
      "Epoch 3/15\n",
      "63/63 [==============================] - 327s 5s/step - loss: 0.0460 - accuracy: 0.9820 - val_loss: 0.0960 - val_accuracy: 0.9710\n",
      "Epoch 4/15\n",
      "63/63 [==============================] - 333s 5s/step - loss: 0.0356 - accuracy: 0.9865 - val_loss: 0.0701 - val_accuracy: 0.9770\n",
      "Epoch 5/15\n",
      "63/63 [==============================] - 327s 5s/step - loss: 0.0230 - accuracy: 0.9935 - val_loss: 0.0655 - val_accuracy: 0.9760\n",
      "Epoch 6/15\n",
      "63/63 [==============================] - 308s 5s/step - loss: 0.0180 - accuracy: 0.9955 - val_loss: 0.0698 - val_accuracy: 0.9750\n",
      "Epoch 7/15\n",
      "63/63 [==============================] - 294s 5s/step - loss: 0.0171 - accuracy: 0.9940 - val_loss: 0.0719 - val_accuracy: 0.9750\n",
      "Epoch 8/15\n",
      "63/63 [==============================] - 311s 5s/step - loss: 0.0113 - accuracy: 0.9980 - val_loss: 0.0844 - val_accuracy: 0.9730\n",
      "Epoch 9/15\n",
      "63/63 [==============================] - 314s 5s/step - loss: 0.0083 - accuracy: 0.9980 - val_loss: 0.0821 - val_accuracy: 0.9770\n",
      "Epoch 10/15\n",
      "63/63 [==============================] - 314s 5s/step - loss: 0.0073 - accuracy: 0.9995 - val_loss: 0.0779 - val_accuracy: 0.9740\n",
      "Epoch 11/15\n",
      "63/63 [==============================] - 320s 5s/step - loss: 0.0051 - accuracy: 0.9995 - val_loss: 0.0866 - val_accuracy: 0.9770\n",
      "Epoch 12/15\n",
      "63/63 [==============================] - 317s 5s/step - loss: 0.0049 - accuracy: 0.9995 - val_loss: 0.1154 - val_accuracy: 0.9710\n",
      "Epoch 13/15\n",
      "63/63 [==============================] - 302s 5s/step - loss: 0.0032 - accuracy: 1.0000 - val_loss: 0.0828 - val_accuracy: 0.9770\n",
      "Epoch 14/15\n",
      "63/63 [==============================] - 293s 5s/step - loss: 0.0024 - accuracy: 1.0000 - val_loss: 0.1143 - val_accuracy: 0.9710\n",
      "Epoch 15/15\n",
      "63/63 [==============================] - 293s 5s/step - loss: 0.0026 - accuracy: 0.9995 - val_loss: 0.0908 - val_accuracy: 0.9750\n"
     ]
    }
   ],
   "source": [
    "# Train the model for 15 rounds. Each round is called an \"epoch\"\n",
    "training_history = model.fit(train_data, epochs=15, validation_data=validation_data)"
   ]
  },
  {
   "cell_type": "code",
   "execution_count": 12,
   "metadata": {},
   "outputs": [],
   "source": [
    "# Save the trained model to a file for future use\n",
    "model.save(os.path.join('..', 'models', 'cats_vs_dogs.h5'))"
   ]
  },
  {
   "cell_type": "markdown",
   "metadata": {},
   "source": [
    "### Plotting the training losses"
   ]
  },
  {
   "cell_type": "code",
   "execution_count": 13,
   "metadata": {},
   "outputs": [
    {
     "data": {
      "text/plain": [
       "<matplotlib.legend.Legend at 0x7efb7e1f6550>"
      ]
     },
     "execution_count": 13,
     "metadata": {},
     "output_type": "execute_result"
    },
    {
     "data": {
      "image/png": "[encoded data removed]",
      "text/plain": [
       "<Figure size 432x288 with 1 Axes>"
      ]
     },
     "metadata": {
      "needs_background": "light"
     },
     "output_type": "display_data"
    }
   ],
   "source": [
    "# Import the necessary package\n",
    "import matplotlib.pyplot as plt\n",
    "\n",
    "# Plot the Training and Validation losses over each epoch\n",
    "plt.plot(training_history.history['loss'], label='training loss')\n",
    "plt.plot(training_history.history['val_loss'], label='validation loss')\n",
    "plt.xlabel('epoch')\n",
    "plt.ylabel('loss')\n",
    "plt.legend()"
   ]
  },
  {
   "cell_type": "markdown",
   "metadata": {},
   "source": [
    "## Using the model for predictions"
   ]
  },
  {
   "cell_type": "code",
   "execution_count": 14,
   "metadata": {},
   "outputs": [],
   "source": [
    "# Import the necessary packages\n",
    "from tensorflow.keras.models import load_model\n",
    "from tensorflow.keras.preprocessing import image\n",
    "import numpy as np\n",
    "import os"
   ]
  },
  {
   "cell_type": "code",
   "execution_count": 15,
   "metadata": {},
   "outputs": [],
   "source": [
    "# Load the model file into Python\n",
    "model = load_model(os.path.join('..', 'models', 'cats_vs_dogs.h5'))"
   ]
  },
  {
   "cell_type": "code",
   "execution_count": 22,
   "metadata": {},
   "outputs": [],
   "source": [
    "# Load the image into Python\n",
    "test_image = image.load_img(os.path.join('images', 'test', 'test1.jpg'))\n",
    "\n",
    "# Convert the image to a matrix of numbers\n",
    "test_image = image.img_to_array(test_image)\n",
    "test_image = np.expand_dims(test_image, axis=0)"
   ]
  },
  {
   "cell_type": "code",
   "execution_count": 23,
   "metadata": {},
   "outputs": [
    {
     "name": "stdout",
     "output_type": "stream",
     "text": [
      "[[1.3967433e-10 1.0000000e+00]]\n"
     ]
    }
   ],
   "source": [
    "# Make predictions\n",
    "result = model.predict(test_image)\n",
    "print(result)"
   ]
  },
  {
   "cell_type": "code",
   "execution_count": 24,
   "metadata": {},
   "outputs": [
    {
     "name": "stdout",
     "output_type": "stream",
     "text": [
      "Dog\n"
     ]
    }
   ],
   "source": [
    "# Convert the number predictions to the actual name. The class mappings are {'cats': 0, 'dogs': 1}.\n",
    "# The model predictions are actually the probability of the image belonging to each class.\n",
    "\n",
    "# To find the element with the highest value, we use numpy's argmax function\n",
    "predicted_class = np.argmax(result)\n",
    "\n",
    "if predicted_class == 0:\n",
    "    print('Cat')\n",
    "elif predicted_class == 1:\n",
    "    print('Dog')"
   ]
  },
  {
   "cell_type": "code",
   "execution_count": null,
   "metadata": {},
   "outputs": [],
   "source": []
  }
 ],
 "metadata": {
  "kernelspec": {
   "display_name": "Python 3",
   "language": "python",
   "name": "python3"
  },
  "language_info": {
   "codemirror_mode": {
    "name": "ipython",
    "version": 3
   },
   "file_extension": ".py",
   "mimetype": "text/x-python",
   "name": "python",
   "nbconvert_exporter": "python",
   "pygments_lexer": "ipython3",
   "version": "3.7.7"
  },
  "widgets": {
   "application/vnd.jupyter.widget-state+json": {
    "state": {},
    "version_major": 2,
    "version_minor": 0
   }
  }
 },
 "nbformat": 4,
 "nbformat_minor": 4
}
