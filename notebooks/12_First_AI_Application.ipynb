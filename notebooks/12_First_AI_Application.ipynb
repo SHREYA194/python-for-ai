{
 "cells": [
  {
   "cell_type": "markdown",
   "metadata": {},
   "source": [
    "# First AI application using Transfer Learning in 6 Steps!\n",
    "\n",
    "<img src='images/12/ai_6steps.png'>"
   ]
  },
  {
   "cell_type": "markdown",
   "metadata": {},
   "source": [
    "## Download the dataset \n",
    "- Download the cats vs dogs dataset from this link and unzip the file: https://storage.googleapis.com/mledu-datasets/cats_and_dogs_filtered.zip"
   ]
  },
  {
   "cell_type": "markdown",
   "metadata": {},
   "source": [
    "## Download the pre-trained model"
   ]
  },
  {
   "cell_type": "code",
   "execution_count": 1,
   "metadata": {},
   "outputs": [],
   "source": [
    "# Import the necessary package\n",
    "from tensorflow.keras.applications import MobileNetV2"
   ]
  },
  {
   "cell_type": "code",
   "execution_count": 2,
   "metadata": {},
   "outputs": [
    {
     "name": "stdout",
     "output_type": "stream",
     "text": [
      "WARNING:tensorflow:`input_shape` is undefined or non-square, or `rows` is not in [96, 128, 160, 192, 224]. Weights for input shape (224, 224) will be loaded as the default.\n"
     ]
    }
   ],
   "source": [
    "# Import the desired pre-trained model\n",
    "# List of pre-trained models: https://www.tensorflow.org/api_docs/python/tf/keras/applications\n",
    "pre_trained_model = MobileNetV2(include_top=False, pooling='avg')"
   ]
  },
  {
   "cell_type": "code",
   "execution_count": 3,
   "metadata": {},
   "outputs": [],
   "source": [
    "# Freeze the model so we don't accidentally change the pre-trained model\n",
    "pre_trained_model.trainable = False"
   ]
  },
  {
   "cell_type": "markdown",
   "metadata": {},
   "source": [
    "## Load the downloaded dataset into Python"
   ]
  },
  {
   "cell_type": "code",
   "execution_count": 4,
   "metadata": {},
   "outputs": [],
   "source": [
    "# Import the necessary packages\n",
    "from tensorflow.keras.preprocessing.image import ImageDataGenerator\n",
    "from tensorflow.keras.applications.mobilenet_v2 import preprocess_input\n",
    "import os"
   ]
  },
  {
   "cell_type": "code",
   "execution_count": 5,
   "metadata": {},
   "outputs": [
    {
     "name": "stdout",
     "output_type": "stream",
     "text": [
      "Found 2000 images belonging to 2 classes.\n",
      "Found 1000 images belonging to 2 classes.\n"
     ]
    }
   ],
   "source": [
    "# Data from Train folder\n",
    "train_data_location = os.path.join('..','data', 'cats_and_dogs_filtered', 'train')\n",
    "train_data = ImageDataGenerator(preprocessing_function=preprocess_input).flow_from_directory(train_data_location, \n",
    "                                                                                             target_size=(224,224))\n",
    "\n",
    "# Data from Validation folder\n",
    "validation_data_location = os.path.join('..','data', 'cats_and_dogs_filtered', 'validation')\n",
    "validation_data = ImageDataGenerator(preprocessing_function=preprocess_input).flow_from_directory(validation_data_location, \n",
    "                                                                                                  target_size=(224,224))"
   ]
  },
  {
   "cell_type": "code",
   "execution_count": 6,
   "metadata": {},
   "outputs": [
    {
     "name": "stdout",
     "output_type": "stream",
     "text": [
      "The class mappings are {'cats': 0, 'dogs': 1}\n"
     ]
    }
   ],
   "source": [
    "# Check the output mappings\n",
    "class_mappings = train_data.class_indices\n",
    "print(f'The class mappings are {class_mappings}')"
   ]
  },
  {
   "cell_type": "markdown",
   "metadata": {},
   "source": [
    "## Load and Modify the pre-trained model to suit our dataset"
   ]
  },
  {
   "cell_type": "code",
   "execution_count": 7,
   "metadata": {},
   "outputs": [],
   "source": [
    "# Import the necessary packages\n",
    "from tensorflow.keras import Sequential\n",
    "from tensorflow.keras.layers import Dense"
   ]
  },
  {
   "cell_type": "code",
   "execution_count": 8,
   "metadata": {},
   "outputs": [],
   "source": [
    "# To create a model for our needs, first create a blank model\n",
    "model = Sequential()\n",
    "\n",
    "# Then add the pre-trained model to use Transfer Learning\n",
    "model.add(pre_trained_model)\n",
    "\n",
    "# Finally add our custom modifications\n",
    "model.add(Dense(len(class_mappings), activation='softmax'))"
   ]
  },
  {
   "cell_type": "code",
   "execution_count": 9,
   "metadata": {},
   "outputs": [],
   "source": [
    "# Make the model ready for training\n",
    "model.compile(loss='categorical_crossentropy', metrics=['accuracy'])"
   ]
  },
  {
   "cell_type": "code",
   "execution_count": 10,
   "metadata": {},
   "outputs": [
    {
     "name": "stdout",
     "output_type": "stream",
     "text": [
      "Model: \"sequential\"\n",
      "_________________________________________________________________\n",
      "Layer (type)                 Output Shape              Param #   \n",
      "=================================================================\n",
      "mobilenetv2_1.00_224 (Functi (None, 1280)              2257984   \n",
      "_________________________________________________________________\n",
      "dense (Dense)                (None, 2)                 2562      \n",
      "=================================================================\n",
      "Total params: 2,260,546\n",
      "Trainable params: 2,562\n",
      "Non-trainable params: 2,257,984\n",
      "_________________________________________________________________\n"
     ]
    }
   ],
   "source": [
    "# If you want to check the model's architecture\n",
    "model.summary()"
   ]
  },
  {
   "cell_type": "markdown",
   "metadata": {},
   "source": [
    "## Training the model on your dataset"
   ]
  },
  {
   "cell_type": "code",
   "execution_count": 11,
   "metadata": {},
   "outputs": [
    {
     "name": "stdout",
     "output_type": "stream",
     "text": [
      "Epoch 1/5\n",
      "63/63 [==============================] - 10s 160ms/step - loss: 0.1958 - accuracy: 0.9240 - val_loss: 0.0554 - val_accuracy: 0.9850\n",
      "Epoch 2/5\n",
      "63/63 [==============================] - 8s 128ms/step - loss: 0.0531 - accuracy: 0.9820 - val_loss: 0.0522 - val_accuracy: 0.9840\n",
      "Epoch 3/5\n",
      "63/63 [==============================] - 8s 130ms/step - loss: 0.0349 - accuracy: 0.9885 - val_loss: 0.0381 - val_accuracy: 0.9880\n",
      "Epoch 4/5\n",
      "63/63 [==============================] - 8s 126ms/step - loss: 0.0251 - accuracy: 0.9920 - val_loss: 0.0370 - val_accuracy: 0.9880\n",
      "Epoch 5/5\n",
      "63/63 [==============================] - 8s 126ms/step - loss: 0.0191 - accuracy: 0.9935 - val_loss: 0.0487 - val_accuracy: 0.9830\n"
     ]
    }
   ],
   "source": [
    "# Train the model for 5 rounds. Each round is called an \"epoch\"\n",
    "training_history = model.fit(train_data, epochs=5, validation_data=validation_data)"
   ]
  },
  {
   "cell_type": "code",
   "execution_count": 12,
   "metadata": {},
   "outputs": [],
   "source": [
    "# Save the trained model to a file for future use\n",
    "model.save(os.path.join('..', 'models', 'cats_vs_dogs.h5'))"
   ]
  },
  {
   "cell_type": "markdown",
   "metadata": {},
   "source": [
    "### Plotting the training losses"
   ]
  },
  {
   "cell_type": "code",
   "execution_count": 13,
   "metadata": {},
   "outputs": [],
   "source": [
    "# Import the necessary package\n",
    "import matplotlib.pyplot as plt\n",
    "\n",
    "# Custom function\n",
    "def plot_training_loss(training_history):\n",
    "    # Plot the Training and Validation losses over each epoch\n",
    "    plt.plot(training_history.history['loss'], label='training loss')\n",
    "    plt.plot(training_history.history['val_loss'], label='validation loss')\n",
    "    plt.xlabel('epoch')\n",
    "    plt.ylabel('loss')\n",
    "    plt.legend()\n",
    "    \n",
    "# Custom function\n",
    "def plot_training_accuracy(training_history):\n",
    "    # Plot the Training and Validation losses over each epoch\n",
    "    plt.plot(training_history.history['accuracy'], label='training accuracy')\n",
    "    plt.plot(training_history.history['val_accuracy'], label='validation accuracy')\n",
    "    plt.xlabel('epoch')\n",
    "    plt.ylabel('accuracy')\n",
    "    plt.legend()"
   ]
  },
  {
   "cell_type": "code",
   "execution_count": 14,
   "metadata": {},
   "outputs": [
    {
     "data": {
      "image/png": "[encoded data removed]",
      "text/plain": [
       "<Figure size 432x288 with 1 Axes>"
      ]
     },
     "metadata": {
      "needs_background": "light"
     },
     "output_type": "display_data"
    }
   ],
   "source": [
    "# Plot the Training and Validation losses over each epoch\n",
    "plot_training_loss(training_history)"
   ]
  },
  {
   "cell_type": "code",
   "execution_count": 15,
   "metadata": {},
   "outputs": [
    {
     "data": {
      "image/png": "[encoded data removed]",
      "text/plain": [
       "<Figure size 432x288 with 1 Axes>"
      ]
     },
     "metadata": {
      "needs_background": "light"
     },
     "output_type": "display_data"
    }
   ],
   "source": [
    "# Plot the Training and Validation losses over each epoch\n",
    "plot_training_accuracy(training_history)"
   ]
  },
  {
   "cell_type": "markdown",
   "metadata": {},
   "source": [
    "## Using the model for predictions"
   ]
  },
  {
   "cell_type": "code",
   "execution_count": 16,
   "metadata": {},
   "outputs": [],
   "source": [
    "# Import the necessary packages\n",
    "from tensorflow.keras.models import load_model\n",
    "from tensorflow.keras.preprocessing import image\n",
    "from tensorflow.keras.applications.mobilenet_v2 import preprocess_input\n",
    "import numpy as np\n",
    "import os"
   ]
  },
  {
   "cell_type": "code",
   "execution_count": 17,
   "metadata": {},
   "outputs": [],
   "source": [
    "# Load the model file into Python\n",
    "model = load_model(os.path.join('..', 'models', 'cats_vs_dogs.h5'))"
   ]
  },
  {
   "cell_type": "code",
   "execution_count": 18,
   "metadata": {},
   "outputs": [],
   "source": [
    "# Load the image into Python\n",
    "test_image = image.load_img(os.path.join('images', 'test', 'test1.jpg'))\n",
    "\n",
    "# Convert the image to a matrix of numbers\n",
    "test_image = image.img_to_array(test_image)\n",
    "test_image = np.expand_dims(test_image, axis=0)\n",
    "test_image = preprocess_input(test_image)"
   ]
  },
  {
   "cell_type": "code",
   "execution_count": 19,
   "metadata": {},
   "outputs": [
    {
     "name": "stdout",
     "output_type": "stream",
     "text": [
      "[[3.2136013e-06 9.9999678e-01]]\n"
     ]
    }
   ],
   "source": [
    "# Make predictions\n",
    "result = model.predict(test_image)\n",
    "print(result)"
   ]
  },
  {
   "cell_type": "code",
   "execution_count": 20,
   "metadata": {},
   "outputs": [
    {
     "name": "stdout",
     "output_type": "stream",
     "text": [
      "Dog\n"
     ]
    }
   ],
   "source": [
    "# Convert the number predictions to the actual name. The class mappings are {'cats': 0, 'dogs': 1}.\n",
    "# The model predictions are actually the probability of the image belonging to each class.\n",
    "\n",
    "# To find the element with the highest value, we use numpy's argmax function\n",
    "predicted_class = np.argmax(result)\n",
    "\n",
    "if predicted_class == 0:\n",
    "    print('Cat')\n",
    "elif predicted_class == 1:\n",
    "    print('Dog')"
   ]
  },
  {
   "cell_type": "markdown",
   "metadata": {},
   "source": [
    "## Keras Callbacks - Early Stopping\n",
    "- If you want training to stop when some metric stops improving (eg. validation loss), you can use the Early Stopping callback to do so.\n",
    "- This helps to stop the training before all your epochs have completed, thus speeding up training process. \n",
    "- However, the model reaches could be sub-optimal. Thus is you are not achieving your desired accuracy, please remove Early Stopping and run for more Epochs"
   ]
  },
  {
   "cell_type": "code",
   "execution_count": 21,
   "metadata": {},
   "outputs": [],
   "source": [
    "# Import the necessary packages\n",
    "from tensorflow.keras import Sequential\n",
    "from tensorflow.keras.layers import Dense\n",
    "from tensorflow.keras.callbacks import EarlyStopping"
   ]
  },
  {
   "cell_type": "code",
   "execution_count": 22,
   "metadata": {},
   "outputs": [],
   "source": [
    "# To create a model for our needs, first create a blank model\n",
    "model = Sequential()\n",
    "\n",
    "# Then add the pre-trained model to use Transfer Learning\n",
    "model.add(pre_trained_model)\n",
    "\n",
    "# Finally add our custom modifications\n",
    "model.add(Dense(len(class_mappings), activation='softmax'))\n",
    "\n",
    "# Make the model ready for training\n",
    "model.compile(loss='categorical_crossentropy', metrics=['accuracy'])"
   ]
  },
  {
   "cell_type": "code",
   "execution_count": 23,
   "metadata": {},
   "outputs": [],
   "source": [
    "# Create a custom callbacks list consisting of Early Stopping callback\n",
    "custom_callbacks = [EarlyStopping(patience=3)]"
   ]
  },
  {
   "cell_type": "code",
   "execution_count": 24,
   "metadata": {},
   "outputs": [
    {
     "name": "stdout",
     "output_type": "stream",
     "text": [
      "Epoch 1/15\n",
      "63/63 [==============================] - 11s 168ms/step - loss: 0.1308 - accuracy: 0.9550 - val_loss: 0.0743 - val_accuracy: 0.9790\n",
      "Epoch 2/15\n",
      "63/63 [==============================] - 8s 127ms/step - loss: 0.0498 - accuracy: 0.9850 - val_loss: 0.0483 - val_accuracy: 0.9850\n",
      "Epoch 3/15\n",
      "63/63 [==============================] - 8s 126ms/step - loss: 0.0370 - accuracy: 0.9875 - val_loss: 0.0467 - val_accuracy: 0.9840\n",
      "Epoch 4/15\n",
      "63/63 [==============================] - 8s 128ms/step - loss: 0.0275 - accuracy: 0.9930 - val_loss: 0.0476 - val_accuracy: 0.9840\n",
      "Epoch 5/15\n",
      "63/63 [==============================] - 8s 127ms/step - loss: 0.0202 - accuracy: 0.9945 - val_loss: 0.0533 - val_accuracy: 0.9830\n",
      "Epoch 6/15\n",
      "63/63 [==============================] - 8s 128ms/step - loss: 0.0156 - accuracy: 0.9945 - val_loss: 0.0653 - val_accuracy: 0.9810\n"
     ]
    }
   ],
   "source": [
    "# Train the model for 15 rounds. Each round is called an \"epoch\"\n",
    "training_history = model.fit(train_data, epochs=15, validation_data=validation_data, callbacks=custom_callbacks)"
   ]
  },
  {
   "cell_type": "code",
   "execution_count": 25,
   "metadata": {},
   "outputs": [
    {
     "data": {
      "image/png": "[encoded data removed]",
      "text/plain": [
       "<Figure size 432x288 with 1 Axes>"
      ]
     },
     "metadata": {
      "needs_background": "light"
     },
     "output_type": "display_data"
    }
   ],
   "source": [
    "plot_training_loss(training_history)"
   ]
  },
  {
   "cell_type": "code",
   "execution_count": 26,
   "metadata": {},
   "outputs": [
    {
     "data": {
      "image/png": "[encoded data removed]",
      "text/plain": [
       "<Figure size 432x288 with 1 Axes>"
      ]
     },
     "metadata": {
      "needs_background": "light"
     },
     "output_type": "display_data"
    }
   ],
   "source": [
    "plot_training_accuracy(training_history)"
   ]
  },
  {
   "cell_type": "code",
   "execution_count": null,
   "metadata": {},
   "outputs": [],
   "source": []
  }
 ],
 "metadata": {
  "kernelspec": {
   "display_name": "Python 3",
   "language": "python",
   "name": "python3"
  },
  "language_info": {
   "codemirror_mode": {
    "name": "ipython",
    "version": 3
   },
   "file_extension": ".py",
   "mimetype": "text/x-python",
   "name": "python",
   "nbconvert_exporter": "python",
   "pygments_lexer": "ipython3",
   "version": "3.8.5"
  },
  "widgets": {
   "application/vnd.jupyter.widget-state+json": {
    "state": {},
    "version_major": 2,
    "version_minor": 0
   }
  }
 },
 "nbformat": 4,
 "nbformat_minor": 4
}
